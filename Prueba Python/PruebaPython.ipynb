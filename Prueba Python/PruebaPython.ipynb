{
 "cells": [
  {
   "cell_type": "markdown",
   "metadata": {
    "pycharm": {
     "name": "#%% md\n"
    }
   },
   "source": [
    "# Ingeniero de Datos Nequi: Prueba Técnica"
   ]
  },
  {
   "cell_type": "markdown",
   "metadata": {
    "tags": []
   },
   "source": [
    "#### Propósito\n",
    "El propósito de esta prueba es verificar tus conocimientos en el campo de la ingeniería\n",
    "de datos. (indiferente de los “framework” o lenguajes de programación que utilices)\n",
    "esperamos que sea la oportunidad de combinar lo que haz aprendido a lo largo de tu\n",
    "experiencia profesional y mezclarlo con tu capacidad de abstracción y analítica.\n",
    "\n",
    "El resultado será la base.\n",
    "\n",
    "En este test, tienes libertad de elegir el lenguaje de programación de su preferencia\n",
    "[ Sugerimos Python ;) ]."
   ]
  },
  {
   "cell_type": "markdown",
   "metadata": {
    "pycharm": {
     "name": "#%% md\n"
    },
    "tags": []
   },
   "source": [
    "#### Instrucciones"
   ]
  },
  {
   "cell_type": "markdown",
   "metadata": {
    "pycharm": {
     "name": "#%% md\n"
    },
    "tags": []
   },
   "source": [
    "## Paso 1: Alcance del proyecto y captura de datos"
   ]
  },
  {
   "cell_type": "markdown",
   "metadata": {},
   "source": [
    "Dado que el alcance la prueba dependerá en gran medida de los datos, En este paso,\n",
    "debes:\n",
    "\n",
    "1. Identificar y recopilar los datos que usaras para tu proyecto (Recuerda al menos tres fuentes y más de un millón de filas).\n",
    "2. Explicar para qué casos de uso final deseas preparar los datos, por ejemplo: tabla de análisis, aplicación de fondo, base de datos de fuentes de verdad, etc.)"
   ]
  },
  {
   "cell_type": "markdown",
   "metadata": {
    "pycharm": {
     "name": "#%% md\n"
    },
    "tags": []
   },
   "source": [
    "### Desarrollo:"
   ]
  },
  {
   "cell_type": "markdown",
   "metadata": {},
   "source": [
    "1. Debido a que uno de los requerimientos del ejercicio era crear un dataset con mas de 1 millón de filas y ser extraido de 3 fuentes con 2 formatos diferentes (csv, api, json, parquet, etc.), decidí buscar una base de datos de música de alguna aplicación que ademas contara con una API.\n",
    "\n",
    "    Al realizar la busqueda correspondiente, encontre en la página de Kaggle 2 bases de datos en formato .csv las cuales al explorarlas me di cuenta que podrían ser de gran utilidad para el ejercicio.\n",
    "\n",
    "    La tercer base de datos la extraje con la ayuda de la API de SPOTIFY, donde me registré y realice las consultas necesarias para sacar la información necesaria para completar las bases de datos de Kaggle.\n",
    "\n",
    "    Las bases de datos fueron descargadas de:\n",
    "    - FuenteK1: https://www.kaggle.com/datasets/rodolfofigueroa/spotify-12m-songs/code?select=tracks_features.csv\n",
    "    - FuenteK2: https://www.kaggle.com/code/vatsalmavani/music-recommendation-system-using-spotify-dataset/data\n",
    "    - FuenteAPI: https://developer.spotify.com/dashboard/login"
   ]
  },
  {
   "cell_type": "markdown",
   "metadata": {},
   "source": [
    "2. Una vez descargadas las bases de datos realicé un análisis exploratorio para determinar cual iba a ser la finalidad del proyecto. El objetivo del proyecto sería realizar un modelo que permita predecir la popularidad de una canción en base a unas features o caracteristicas propias de la canción donde se espera tener un porcentaje de precisión superior al 70%."
   ]
  },
  {
   "cell_type": "markdown",
   "metadata": {
    "pycharm": {
     "name": "#%% md\n"
    },
    "tags": []
   },
   "source": [
    "## Paso 2: Explorar y evaluar los datos, el EDA."
   ]
  },
  {
   "cell_type": "markdown",
   "metadata": {},
   "source": [
    "1. Explorar los datos para identificar problemas de calidad de los datos, como valores perdidos, datos duplicados, problemas de formato etc.\n",
    "2. Documentar los pasos necesarios para limpiar los datos, indicar que tipo de pasos se sugieren para la limpieza. Tip se puede usar un diagrama, mapa mental o adición en la arquitectura del paso siguiente con el fin de dejar claro este paso."
   ]
  },
  {
   "cell_type": "markdown",
   "metadata": {
    "tags": []
   },
   "source": [
    "### Desarrollo:"
   ]
  },
  {
   "cell_type": "markdown",
   "metadata": {},
   "source": [
    "#### Importamos las librerias\n",
    "Cargamos las librerias de Python para el procesamiento, visualización y modelado de los datos."
   ]
  },
  {
   "cell_type": "code",
   "execution_count": 1,
   "metadata": {},
   "outputs": [],
   "source": [
    "import pandas as pd\n",
    "import numpy as np\n",
    "\n",
    "import seaborn as sns\n",
    "from matplotlib.colors import ListedColormap\n",
    "import matplotlib.pyplot as plt\n",
    "import plotly.express as px\n",
    "%matplotlib inline\n",
    "\n",
    "import warnings\n",
    "warnings.filterwarnings('ignore')\n",
    "\n",
    "from sklearn.preprocessing import StandardScaler\n",
    "from sklearn.model_selection import train_test_split\n",
    "from sklearn.metrics import mean_absolute_error, classification_report, confusion_matrix, accuracy_score, roc_curve, auc, explained_variance_score, r2_score\n",
    "from sklearn.metrics import mean_squared_error\n",
    "from sklearn.linear_model import LinearRegression\n",
    "import catboost as cb"
   ]
  },
  {
   "cell_type": "markdown",
   "metadata": {},
   "source": [
    "#### Importamos los datasets\n",
    "Cargamos los 3 datasets extraidos de Kaggle y la API de Spotify."
   ]
  },
  {
   "cell_type": "code",
   "execution_count": 2,
   "metadata": {},
   "outputs": [],
   "source": [
    "data1 = pd.read_csv('FuenteK1.csv')\n",
    "data2 = pd.read_csv('FuenteK2.csv')\n",
    "data3 = pd.read_csv('FuenteAPI.csv')"
   ]
  },
  {
   "cell_type": "markdown",
   "metadata": {},
   "source": [
    "#### Tamaño de los datasets\n",
    "Visualizamos el tamaño de cada uno de los 3 datasets."
   ]
  },
  {
   "cell_type": "code",
   "execution_count": 3,
   "metadata": {},
   "outputs": [
    {
     "name": "stdout",
     "output_type": "stream",
     "text": [
      "(1204025, 24) (170653, 19) (5600, 21)\n"
     ]
    }
   ],
   "source": [
    "print(data1.shape, data2.shape, data3.shape)"
   ]
  },
  {
   "cell_type": "markdown",
   "metadata": {},
   "source": [
    "#### Información de los 3 datasets\n",
    "Visualizamos infromación de los datasets como nombres de columnas, cantidad de datos no nulos y tipos de variables."
   ]
  },
  {
   "cell_type": "code",
   "execution_count": 4,
   "metadata": {},
   "outputs": [
    {
     "name": "stdout",
     "output_type": "stream",
     "text": [
      "<class 'pandas.core.frame.DataFrame'>\n",
      "RangeIndex: 1204025 entries, 0 to 1204024\n",
      "Data columns (total 24 columns):\n",
      " #   Column            Non-Null Count    Dtype  \n",
      "---  ------            --------------    -----  \n",
      " 0   id                1204025 non-null  object \n",
      " 1   name              1204025 non-null  object \n",
      " 2   album             1204025 non-null  object \n",
      " 3   album_id          1204025 non-null  object \n",
      " 4   artists           1204025 non-null  object \n",
      " 5   artist_ids        1204025 non-null  object \n",
      " 6   track_number      1204025 non-null  int64  \n",
      " 7   disc_number       1204025 non-null  int64  \n",
      " 8   explicit          1204025 non-null  bool   \n",
      " 9   danceability      1204025 non-null  float64\n",
      " 10  energy            1204025 non-null  float64\n",
      " 11  key               1204025 non-null  int64  \n",
      " 12  loudness          1204025 non-null  float64\n",
      " 13  mode              1204025 non-null  int64  \n",
      " 14  speechiness       1204025 non-null  float64\n",
      " 15  acousticness      1204025 non-null  float64\n",
      " 16  instrumentalness  1204025 non-null  float64\n",
      " 17  liveness          1204025 non-null  float64\n",
      " 18  valence           1204025 non-null  float64\n",
      " 19  tempo             1204025 non-null  float64\n",
      " 20  duration_ms       1204025 non-null  int64  \n",
      " 21  time_signature    1204025 non-null  float64\n",
      " 22  year              1204025 non-null  int64  \n",
      " 23  release_date      1204025 non-null  object \n",
      "dtypes: bool(1), float64(10), int64(6), object(7)\n",
      "memory usage: 212.4+ MB\n"
     ]
    }
   ],
   "source": [
    "data1.info()"
   ]
  },
  {
   "cell_type": "code",
   "execution_count": 5,
   "metadata": {},
   "outputs": [
    {
     "name": "stdout",
     "output_type": "stream",
     "text": [
      "<class 'pandas.core.frame.DataFrame'>\n",
      "RangeIndex: 170653 entries, 0 to 170652\n",
      "Data columns (total 19 columns):\n",
      " #   Column            Non-Null Count   Dtype  \n",
      "---  ------            --------------   -----  \n",
      " 0   valence           170653 non-null  float64\n",
      " 1   year              170653 non-null  int64  \n",
      " 2   acousticness      170653 non-null  float64\n",
      " 3   artists           170653 non-null  object \n",
      " 4   danceability      170653 non-null  float64\n",
      " 5   duration_ms       170653 non-null  int64  \n",
      " 6   energy            170653 non-null  float64\n",
      " 7   explicit          170653 non-null  int64  \n",
      " 8   id                170653 non-null  object \n",
      " 9   instrumentalness  170653 non-null  float64\n",
      " 10  key               170653 non-null  int64  \n",
      " 11  liveness          170653 non-null  float64\n",
      " 12  loudness          170653 non-null  float64\n",
      " 13  mode              170653 non-null  int64  \n",
      " 14  name              170653 non-null  object \n",
      " 15  popularity        170653 non-null  int64  \n",
      " 16  release_date      170653 non-null  object \n",
      " 17  speechiness       170653 non-null  float64\n",
      " 18  tempo             170653 non-null  float64\n",
      "dtypes: float64(9), int64(6), object(4)\n",
      "memory usage: 24.7+ MB\n"
     ]
    }
   ],
   "source": [
    "data2.info()"
   ]
  },
  {
   "cell_type": "code",
   "execution_count": 6,
   "metadata": {},
   "outputs": [
    {
     "name": "stdout",
     "output_type": "stream",
     "text": [
      "<class 'pandas.core.frame.DataFrame'>\n",
      "RangeIndex: 5600 entries, 0 to 5599\n",
      "Data columns (total 21 columns):\n",
      " #   Column            Non-Null Count  Dtype  \n",
      "---  ------            --------------  -----  \n",
      " 0   name              5599 non-null   object \n",
      " 1   album             5599 non-null   object \n",
      " 2   artists           5599 non-null   object \n",
      " 3   year              5600 non-null   object \n",
      " 4   duration_ms       5600 non-null   int64  \n",
      " 5   track_number      5600 non-null   int64  \n",
      " 6   disc_number       5600 non-null   int64  \n",
      " 7   explicit          5600 non-null   bool   \n",
      " 8   danceability      5600 non-null   float64\n",
      " 9   energy            5600 non-null   float64\n",
      " 10  key               5600 non-null   int64  \n",
      " 11  loudness          5600 non-null   float64\n",
      " 12  mode              5600 non-null   int64  \n",
      " 13  speechiness       5600 non-null   float64\n",
      " 14  acousticness      5600 non-null   float64\n",
      " 15  instrumentalness  5600 non-null   float64\n",
      " 16  liveness          5600 non-null   float64\n",
      " 17  valence           5600 non-null   float64\n",
      " 18  tempo             5600 non-null   float64\n",
      " 19  time_signature    5600 non-null   int64  \n",
      " 20  popularity        5600 non-null   int64  \n",
      "dtypes: bool(1), float64(9), int64(7), object(4)\n",
      "memory usage: 880.6+ KB\n"
     ]
    }
   ],
   "source": [
    "data3.info()"
   ]
  },
  {
   "cell_type": "markdown",
   "metadata": {},
   "source": [
    "#### Nombres de las columnas\n",
    "Visualizamos los nombres de las columnas diferentes de los 3 datasets."
   ]
  },
  {
   "cell_type": "code",
   "execution_count": 7,
   "metadata": {},
   "outputs": [
    {
     "name": "stdout",
     "output_type": "stream",
     "text": [
      "Index(['album', 'album_id', 'artist_ids', 'disc_number', 'time_signature',\n",
      "       'track_number'],\n",
      "      dtype='object')\n",
      "Index(['popularity'], dtype='object')\n",
      "Index(['album_id', 'artist_ids', 'id', 'release_date'], dtype='object')\n",
      "Index(['popularity'], dtype='object')\n",
      "Index(['id', 'release_date'], dtype='object')\n",
      "Index(['album', 'disc_number', 'time_signature', 'track_number'], dtype='object')\n"
     ]
    }
   ],
   "source": [
    "print(data1.columns.difference(data2.columns))\n",
    "print(data2.columns.difference(data1.columns))\n",
    "print(data1.columns.difference(data3.columns))\n",
    "print(data3.columns.difference(data1.columns))\n",
    "print(data2.columns.difference(data3.columns))\n",
    "print(data3.columns.difference(data2.columns))"
   ]
  },
  {
   "cell_type": "markdown",
   "metadata": {},
   "source": [
    "#### Eliminar columnas\n",
    "Eliminamos las columnas del dataset 1: 'album', 'album_id', 'artist_ids', 'disc_number', 'time_signature', 'id', 'release_date' y 'track_number'."
   ]
  },
  {
   "cell_type": "code",
   "execution_count": 8,
   "metadata": {},
   "outputs": [],
   "source": [
    "data1.drop(['album','album_id','artist_ids','disc_number','time_signature','id','release_date','track_number'],\n",
    "           axis = 1, inplace = True)"
   ]
  },
  {
   "cell_type": "markdown",
   "metadata": {},
   "source": [
    "Eliminamos las columnas del dataset 2: 'id' y 'release_date'."
   ]
  },
  {
   "cell_type": "code",
   "execution_count": 9,
   "metadata": {},
   "outputs": [],
   "source": [
    "data2.drop(['id','release_date'], axis = 1, inplace = True)"
   ]
  },
  {
   "cell_type": "markdown",
   "metadata": {},
   "source": [
    "Eliminamos las columnas del dataset 3: 'album', 'disc_number', 'time_signature' y 'track_number'."
   ]
  },
  {
   "cell_type": "code",
   "execution_count": 10,
   "metadata": {},
   "outputs": [],
   "source": [
    "data3.drop(['album','disc_number','time_signature','track_number'], axis = 1, inplace = True)"
   ]
  },
  {
   "cell_type": "markdown",
   "metadata": {},
   "source": [
    "#### Crear columnas\n",
    "Creamos la columna 'popularity' en el dataset1."
   ]
  },
  {
   "cell_type": "code",
   "execution_count": 11,
   "metadata": {},
   "outputs": [],
   "source": [
    "data1['popularity'] = pd.Series()"
   ]
  },
  {
   "cell_type": "markdown",
   "metadata": {},
   "source": [
    "#### Revisar columnas\n",
    "Visualizamos nuevamente los nombres de las columnas diferentes de los 3 datasets."
   ]
  },
  {
   "cell_type": "code",
   "execution_count": 12,
   "metadata": {},
   "outputs": [
    {
     "name": "stdout",
     "output_type": "stream",
     "text": [
      "Index([], dtype='object')\n",
      "Index([], dtype='object')\n",
      "Index([], dtype='object')\n",
      "Index([], dtype='object')\n",
      "Index([], dtype='object')\n",
      "Index([], dtype='object')\n"
     ]
    }
   ],
   "source": [
    "print(data1.columns.difference(data2.columns))\n",
    "print(data2.columns.difference(data1.columns))\n",
    "print(data1.columns.difference(data3.columns))\n",
    "print(data3.columns.difference(data1.columns))\n",
    "print(data2.columns.difference(data3.columns))\n",
    "print(data3.columns.difference(data2.columns))"
   ]
  },
  {
   "cell_type": "markdown",
   "metadata": {},
   "source": [
    "Los 3 datasets contienen las mismas columnas."
   ]
  },
  {
   "cell_type": "markdown",
   "metadata": {},
   "source": [
    "#### Organizar columnas\n",
    "Reorganizamos las columnas de los 3 datasets con el objetivo de consolidar la información en un unico dataset."
   ]
  },
  {
   "cell_type": "code",
   "execution_count": 13,
   "metadata": {},
   "outputs": [],
   "source": [
    "data1 = data1.reindex(columns = data3.columns)\n",
    "data2 = data2.reindex(columns = data3.columns)"
   ]
  },
  {
   "cell_type": "markdown",
   "metadata": {},
   "source": [
    "Validamos si las columnas de los 3 datasets están en el mismo orden."
   ]
  },
  {
   "cell_type": "code",
   "execution_count": 14,
   "metadata": {},
   "outputs": [
    {
     "data": {
      "text/plain": [
       "True"
      ]
     },
     "execution_count": 14,
     "metadata": {},
     "output_type": "execute_result"
    }
   ],
   "source": [
    "data1.columns.equals(data2.columns) == data1.columns.equals(data3.columns)"
   ]
  },
  {
   "cell_type": "markdown",
   "metadata": {},
   "source": [
    "#### Calidad de los datos\n",
    "Observamos la columna 'artists' del dataset 1 y del dataset 2."
   ]
  },
  {
   "cell_type": "code",
   "execution_count": 15,
   "metadata": {},
   "outputs": [
    {
     "data": {
      "text/plain": [
       "0          ['Rage Against The Machine']\n",
       "1          ['Rage Against The Machine']\n",
       "2          ['Rage Against The Machine']\n",
       "3          ['Rage Against The Machine']\n",
       "4          ['Rage Against The Machine']\n",
       "                       ...             \n",
       "1204020                     ['FVLCRVM']\n",
       "1204021                     ['FVLCRVM']\n",
       "1204022                     ['FVLCRVM']\n",
       "1204023                     ['FVLCRVM']\n",
       "1204024                     ['FVLCRVM']\n",
       "Name: artists, Length: 1204025, dtype: object"
      ]
     },
     "execution_count": 15,
     "metadata": {},
     "output_type": "execute_result"
    }
   ],
   "source": [
    "data1.artists"
   ]
  },
  {
   "cell_type": "code",
   "execution_count": 16,
   "metadata": {},
   "outputs": [
    {
     "data": {
      "text/plain": [
       "0         ['Sergei Rachmaninoff', 'James Levine', 'Berli...\n",
       "1                                            ['Dennis Day']\n",
       "2         ['KHP Kridhamardawa Karaton Ngayogyakarta Hadi...\n",
       "3                                          ['Frank Parker']\n",
       "4                                            ['Phil Regan']\n",
       "                                ...                        \n",
       "170648    ['Anuel AA', 'Daddy Yankee', 'KAROL G', 'Ozuna...\n",
       "170649                                         ['Ashnikko']\n",
       "170650                                          ['MAMAMOO']\n",
       "170651                                           ['Eminem']\n",
       "170652                                ['KEVVO', 'J Balvin']\n",
       "Name: artists, Length: 170653, dtype: object"
      ]
     },
     "execution_count": 16,
     "metadata": {},
     "output_type": "execute_result"
    }
   ],
   "source": [
    "data2.artists"
   ]
  },
  {
   "cell_type": "markdown",
   "metadata": {},
   "source": [
    "Eliminamos caracteres especiales de la columna 'artists'."
   ]
  },
  {
   "cell_type": "code",
   "execution_count": 17,
   "metadata": {},
   "outputs": [],
   "source": [
    "data1['artists'] = data1.artists.apply(lambda x: x[2:-2])\n",
    "data2['artists'] = data2.artists.apply(lambda x: x[2:-2])"
   ]
  },
  {
   "cell_type": "markdown",
   "metadata": {},
   "source": [
    "Observamos la columna 'year' del dataset 3."
   ]
  },
  {
   "cell_type": "code",
   "execution_count": 18,
   "metadata": {},
   "outputs": [
    {
     "data": {
      "text/plain": [
       "2019-07-26    39\n",
       "2020-09-25    39\n",
       "2019-12-06    39\n",
       "2020-07-10    34\n",
       "2020-07-24    32\n",
       "              ..\n",
       "2013-11-25     1\n",
       "2021-04-12     1\n",
       "1977-06-20     1\n",
       "2020-09-23     1\n",
       "2020-08-22     1\n",
       "Name: year, Length: 1635, dtype: int64"
      ]
     },
     "execution_count": 18,
     "metadata": {},
     "output_type": "execute_result"
    }
   ],
   "source": [
    "data3.year.value_counts()"
   ]
  },
  {
   "cell_type": "markdown",
   "metadata": {},
   "source": [
    "Modificamos el formato de la fecha a solo año"
   ]
  },
  {
   "cell_type": "code",
   "execution_count": 19,
   "metadata": {},
   "outputs": [],
   "source": [
    "data3['year'] = data3.year.apply(lambda x: x[0:4]).astype(str).astype(int)"
   ]
  },
  {
   "cell_type": "markdown",
   "metadata": {},
   "source": [
    "#### Consolidamos los datasets\n",
    "Creamos un solo dataset con la información de los 3 datasets.\n",
    "Reseteamos los indices para llevar un consecutivo."
   ]
  },
  {
   "cell_type": "code",
   "execution_count": 20,
   "metadata": {},
   "outputs": [
    {
     "data": {
      "text/html": [
       "<div>\n",
       "<style scoped>\n",
       "    .dataframe tbody tr th:only-of-type {\n",
       "        vertical-align: middle;\n",
       "    }\n",
       "\n",
       "    .dataframe tbody tr th {\n",
       "        vertical-align: top;\n",
       "    }\n",
       "\n",
       "    .dataframe thead th {\n",
       "        text-align: right;\n",
       "    }\n",
       "</style>\n",
       "<table border=\"1\" class=\"dataframe\">\n",
       "  <thead>\n",
       "    <tr style=\"text-align: right;\">\n",
       "      <th></th>\n",
       "      <th>name</th>\n",
       "      <th>artists</th>\n",
       "      <th>year</th>\n",
       "      <th>duration_ms</th>\n",
       "      <th>explicit</th>\n",
       "      <th>danceability</th>\n",
       "      <th>energy</th>\n",
       "      <th>key</th>\n",
       "      <th>loudness</th>\n",
       "      <th>mode</th>\n",
       "      <th>speechiness</th>\n",
       "      <th>acousticness</th>\n",
       "      <th>instrumentalness</th>\n",
       "      <th>liveness</th>\n",
       "      <th>valence</th>\n",
       "      <th>tempo</th>\n",
       "      <th>popularity</th>\n",
       "    </tr>\n",
       "  </thead>\n",
       "  <tbody>\n",
       "    <tr>\n",
       "      <th>0</th>\n",
       "      <td>Testify</td>\n",
       "      <td>Rage Against The Machine</td>\n",
       "      <td>1999</td>\n",
       "      <td>210133</td>\n",
       "      <td>0</td>\n",
       "      <td>0.470</td>\n",
       "      <td>0.978</td>\n",
       "      <td>7</td>\n",
       "      <td>-5.399</td>\n",
       "      <td>1</td>\n",
       "      <td>0.0727</td>\n",
       "      <td>0.02610</td>\n",
       "      <td>0.000011</td>\n",
       "      <td>0.3560</td>\n",
       "      <td>0.503</td>\n",
       "      <td>117.906</td>\n",
       "      <td>NaN</td>\n",
       "    </tr>\n",
       "    <tr>\n",
       "      <th>1</th>\n",
       "      <td>Guerrilla Radio</td>\n",
       "      <td>Rage Against The Machine</td>\n",
       "      <td>1999</td>\n",
       "      <td>206200</td>\n",
       "      <td>1</td>\n",
       "      <td>0.599</td>\n",
       "      <td>0.957</td>\n",
       "      <td>11</td>\n",
       "      <td>-5.764</td>\n",
       "      <td>1</td>\n",
       "      <td>0.1880</td>\n",
       "      <td>0.01290</td>\n",
       "      <td>0.000071</td>\n",
       "      <td>0.1550</td>\n",
       "      <td>0.489</td>\n",
       "      <td>103.680</td>\n",
       "      <td>NaN</td>\n",
       "    </tr>\n",
       "    <tr>\n",
       "      <th>2</th>\n",
       "      <td>Calm Like a Bomb</td>\n",
       "      <td>Rage Against The Machine</td>\n",
       "      <td>1999</td>\n",
       "      <td>298893</td>\n",
       "      <td>0</td>\n",
       "      <td>0.315</td>\n",
       "      <td>0.970</td>\n",
       "      <td>7</td>\n",
       "      <td>-5.424</td>\n",
       "      <td>1</td>\n",
       "      <td>0.4830</td>\n",
       "      <td>0.02340</td>\n",
       "      <td>0.000002</td>\n",
       "      <td>0.1220</td>\n",
       "      <td>0.370</td>\n",
       "      <td>149.749</td>\n",
       "      <td>NaN</td>\n",
       "    </tr>\n",
       "    <tr>\n",
       "      <th>3</th>\n",
       "      <td>Mic Check</td>\n",
       "      <td>Rage Against The Machine</td>\n",
       "      <td>1999</td>\n",
       "      <td>213640</td>\n",
       "      <td>1</td>\n",
       "      <td>0.440</td>\n",
       "      <td>0.967</td>\n",
       "      <td>11</td>\n",
       "      <td>-5.830</td>\n",
       "      <td>0</td>\n",
       "      <td>0.2370</td>\n",
       "      <td>0.16300</td>\n",
       "      <td>0.000004</td>\n",
       "      <td>0.1210</td>\n",
       "      <td>0.574</td>\n",
       "      <td>96.752</td>\n",
       "      <td>NaN</td>\n",
       "    </tr>\n",
       "    <tr>\n",
       "      <th>4</th>\n",
       "      <td>Sleep Now In the Fire</td>\n",
       "      <td>Rage Against The Machine</td>\n",
       "      <td>1999</td>\n",
       "      <td>205600</td>\n",
       "      <td>0</td>\n",
       "      <td>0.426</td>\n",
       "      <td>0.929</td>\n",
       "      <td>2</td>\n",
       "      <td>-6.729</td>\n",
       "      <td>1</td>\n",
       "      <td>0.0701</td>\n",
       "      <td>0.00162</td>\n",
       "      <td>0.105000</td>\n",
       "      <td>0.0789</td>\n",
       "      <td>0.539</td>\n",
       "      <td>127.059</td>\n",
       "      <td>NaN</td>\n",
       "    </tr>\n",
       "  </tbody>\n",
       "</table>\n",
       "</div>"
      ],
      "text/plain": [
       "                    name                   artists  year  duration_ms  \\\n",
       "0                Testify  Rage Against The Machine  1999       210133   \n",
       "1        Guerrilla Radio  Rage Against The Machine  1999       206200   \n",
       "2       Calm Like a Bomb  Rage Against The Machine  1999       298893   \n",
       "3              Mic Check  Rage Against The Machine  1999       213640   \n",
       "4  Sleep Now In the Fire  Rage Against The Machine  1999       205600   \n",
       "\n",
       "   explicit  danceability  energy  key  loudness  mode  speechiness  \\\n",
       "0         0         0.470   0.978    7    -5.399     1       0.0727   \n",
       "1         1         0.599   0.957   11    -5.764     1       0.1880   \n",
       "2         0         0.315   0.970    7    -5.424     1       0.4830   \n",
       "3         1         0.440   0.967   11    -5.830     0       0.2370   \n",
       "4         0         0.426   0.929    2    -6.729     1       0.0701   \n",
       "\n",
       "   acousticness  instrumentalness  liveness  valence    tempo  popularity  \n",
       "0       0.02610          0.000011    0.3560    0.503  117.906         NaN  \n",
       "1       0.01290          0.000071    0.1550    0.489  103.680         NaN  \n",
       "2       0.02340          0.000002    0.1220    0.370  149.749         NaN  \n",
       "3       0.16300          0.000004    0.1210    0.574   96.752         NaN  \n",
       "4       0.00162          0.105000    0.0789    0.539  127.059         NaN  "
      ]
     },
     "execution_count": 20,
     "metadata": {},
     "output_type": "execute_result"
    }
   ],
   "source": [
    "data = pd.concat([data1, data2, data3], axis = 0)\n",
    "data.reset_index(drop = True, inplace = True)\n",
    "data.head()"
   ]
  },
  {
   "cell_type": "markdown",
   "metadata": {},
   "source": [
    "#### Matriz de correlación\n",
    "Graficamos la correlación entre las diferentes variables del dataset"
   ]
  },
  {
   "cell_type": "code",
   "execution_count": 21,
   "metadata": {},
   "outputs": [
    {
     "data": {
      "image/png": "[encoded data removed]",
      "text/plain": [
       "<Figure size 1500x1000 with 2 Axes>"
      ]
     },
     "metadata": {},
     "output_type": "display_data"
    }
   ],
   "source": [
    "plt.figure(figsize = (15,10))\n",
    "sns.heatmap(data.corr(), annot = True, vmin = -1, cmap = 'coolwarm', fmt=\".2f\")\n",
    "plt.show()"
   ]
  },
  {
   "cell_type": "markdown",
   "metadata": {},
   "source": [
    "#### Información del dataset\n",
    "Información del dataset como nombres de columnas, cantidad de datos no nulos y tipos de variables."
   ]
  },
  {
   "cell_type": "code",
   "execution_count": 22,
   "metadata": {},
   "outputs": [
    {
     "name": "stdout",
     "output_type": "stream",
     "text": [
      "<class 'pandas.core.frame.DataFrame'>\n",
      "RangeIndex: 1380278 entries, 0 to 1380277\n",
      "Data columns (total 17 columns):\n",
      " #   Column            Non-Null Count    Dtype  \n",
      "---  ------            --------------    -----  \n",
      " 0   name              1380277 non-null  object \n",
      " 1   artists           1380277 non-null  object \n",
      " 2   year              1380278 non-null  int64  \n",
      " 3   duration_ms       1380278 non-null  int64  \n",
      " 4   explicit          1380278 non-null  int64  \n",
      " 5   danceability      1380278 non-null  float64\n",
      " 6   energy            1380278 non-null  float64\n",
      " 7   key               1380278 non-null  int64  \n",
      " 8   loudness          1380278 non-null  float64\n",
      " 9   mode              1380278 non-null  int64  \n",
      " 10  speechiness       1380278 non-null  float64\n",
      " 11  acousticness      1380278 non-null  float64\n",
      " 12  instrumentalness  1380278 non-null  float64\n",
      " 13  liveness          1380278 non-null  float64\n",
      " 14  valence           1380278 non-null  float64\n",
      " 15  tempo             1380278 non-null  float64\n",
      " 16  popularity        176253 non-null   float64\n",
      "dtypes: float64(10), int64(5), object(2)\n",
      "memory usage: 179.0+ MB\n"
     ]
    }
   ],
   "source": [
    "data.info()"
   ]
  },
  {
   "cell_type": "markdown",
   "metadata": {},
   "source": [
    "Información estadística del dataset."
   ]
  },
  {
   "cell_type": "code",
   "execution_count": 23,
   "metadata": {},
   "outputs": [
    {
     "data": {
      "text/html": [
       "<div>\n",
       "<style scoped>\n",
       "    .dataframe tbody tr th:only-of-type {\n",
       "        vertical-align: middle;\n",
       "    }\n",
       "\n",
       "    .dataframe tbody tr th {\n",
       "        vertical-align: top;\n",
       "    }\n",
       "\n",
       "    .dataframe thead th {\n",
       "        text-align: right;\n",
       "    }\n",
       "</style>\n",
       "<table border=\"1\" class=\"dataframe\">\n",
       "  <thead>\n",
       "    <tr style=\"text-align: right;\">\n",
       "      <th></th>\n",
       "      <th>count</th>\n",
       "      <th>mean</th>\n",
       "      <th>std</th>\n",
       "      <th>min</th>\n",
       "      <th>25%</th>\n",
       "      <th>50%</th>\n",
       "      <th>75%</th>\n",
       "      <th>max</th>\n",
       "    </tr>\n",
       "  </thead>\n",
       "  <tbody>\n",
       "    <tr>\n",
       "      <th>year</th>\n",
       "      <td>1380278.0</td>\n",
       "      <td>2003.585123</td>\n",
       "      <td>17.767251</td>\n",
       "      <td>0.0</td>\n",
       "      <td>2000.000000</td>\n",
       "      <td>2008.00000</td>\n",
       "      <td>2015.0000</td>\n",
       "      <td>2023.000</td>\n",
       "    </tr>\n",
       "    <tr>\n",
       "      <th>duration_ms</th>\n",
       "      <td>1380278.0</td>\n",
       "      <td>246437.692403</td>\n",
       "      <td>158038.881764</td>\n",
       "      <td>0.0</td>\n",
       "      <td>173307.000000</td>\n",
       "      <td>222013.00000</td>\n",
       "      <td>282707.0000</td>\n",
       "      <td>6061090.000</td>\n",
       "    </tr>\n",
       "    <tr>\n",
       "      <th>explicit</th>\n",
       "      <td>1380278.0</td>\n",
       "      <td>0.072488</td>\n",
       "      <td>0.259294</td>\n",
       "      <td>0.0</td>\n",
       "      <td>0.000000</td>\n",
       "      <td>0.00000</td>\n",
       "      <td>0.0000</td>\n",
       "      <td>1.000</td>\n",
       "    </tr>\n",
       "    <tr>\n",
       "      <th>danceability</th>\n",
       "      <td>1380278.0</td>\n",
       "      <td>0.499109</td>\n",
       "      <td>0.188708</td>\n",
       "      <td>0.0</td>\n",
       "      <td>0.364000</td>\n",
       "      <td>0.50700</td>\n",
       "      <td>0.6390</td>\n",
       "      <td>1.000</td>\n",
       "    </tr>\n",
       "    <tr>\n",
       "      <th>energy</th>\n",
       "      <td>1380278.0</td>\n",
       "      <td>0.506566</td>\n",
       "      <td>0.291348</td>\n",
       "      <td>0.0</td>\n",
       "      <td>0.253000</td>\n",
       "      <td>0.51700</td>\n",
       "      <td>0.7580</td>\n",
       "      <td>1.000</td>\n",
       "    </tr>\n",
       "    <tr>\n",
       "      <th>key</th>\n",
       "      <td>1380278.0</td>\n",
       "      <td>5.195177</td>\n",
       "      <td>3.534368</td>\n",
       "      <td>0.0</td>\n",
       "      <td>2.000000</td>\n",
       "      <td>5.00000</td>\n",
       "      <td>8.0000</td>\n",
       "      <td>11.000</td>\n",
       "    </tr>\n",
       "    <tr>\n",
       "      <th>loudness</th>\n",
       "      <td>1380278.0</td>\n",
       "      <td>-11.749399</td>\n",
       "      <td>6.831814</td>\n",
       "      <td>-60.0</td>\n",
       "      <td>-15.110000</td>\n",
       "      <td>-9.87400</td>\n",
       "      <td>-6.7560</td>\n",
       "      <td>7.234</td>\n",
       "    </tr>\n",
       "    <tr>\n",
       "      <th>mode</th>\n",
       "      <td>1380278.0</td>\n",
       "      <td>0.675468</td>\n",
       "      <td>0.468200</td>\n",
       "      <td>0.0</td>\n",
       "      <td>0.000000</td>\n",
       "      <td>1.00000</td>\n",
       "      <td>1.0000</td>\n",
       "      <td>1.000</td>\n",
       "    </tr>\n",
       "    <tr>\n",
       "      <th>speechiness</th>\n",
       "      <td>1380278.0</td>\n",
       "      <td>0.086280</td>\n",
       "      <td>0.122854</td>\n",
       "      <td>0.0</td>\n",
       "      <td>0.035100</td>\n",
       "      <td>0.04470</td>\n",
       "      <td>0.0729</td>\n",
       "      <td>0.970</td>\n",
       "    </tr>\n",
       "    <tr>\n",
       "      <th>acousticness</th>\n",
       "      <td>1380278.0</td>\n",
       "      <td>0.452851</td>\n",
       "      <td>0.384334</td>\n",
       "      <td>0.0</td>\n",
       "      <td>0.043300</td>\n",
       "      <td>0.40400</td>\n",
       "      <td>0.8640</td>\n",
       "      <td>0.996</td>\n",
       "    </tr>\n",
       "    <tr>\n",
       "      <th>instrumentalness</th>\n",
       "      <td>1380278.0</td>\n",
       "      <td>0.267587</td>\n",
       "      <td>0.370716</td>\n",
       "      <td>0.0</td>\n",
       "      <td>0.000005</td>\n",
       "      <td>0.00473</td>\n",
       "      <td>0.6700</td>\n",
       "      <td>1.000</td>\n",
       "    </tr>\n",
       "    <tr>\n",
       "      <th>liveness</th>\n",
       "      <td>1380278.0</td>\n",
       "      <td>0.202071</td>\n",
       "      <td>0.179644</td>\n",
       "      <td>0.0</td>\n",
       "      <td>0.097100</td>\n",
       "      <td>0.12600</td>\n",
       "      <td>0.2470</td>\n",
       "      <td>1.000</td>\n",
       "    </tr>\n",
       "    <tr>\n",
       "      <th>valence</th>\n",
       "      <td>1380278.0</td>\n",
       "      <td>0.440470</td>\n",
       "      <td>0.271462</td>\n",
       "      <td>0.0</td>\n",
       "      <td>0.204000</td>\n",
       "      <td>0.42100</td>\n",
       "      <td>0.6590</td>\n",
       "      <td>1.000</td>\n",
       "    </tr>\n",
       "    <tr>\n",
       "      <th>tempo</th>\n",
       "      <td>1380278.0</td>\n",
       "      <td>117.556206</td>\n",
       "      <td>30.906640</td>\n",
       "      <td>0.0</td>\n",
       "      <td>94.016000</td>\n",
       "      <td>116.38000</td>\n",
       "      <td>136.9470</td>\n",
       "      <td>248.934</td>\n",
       "    </tr>\n",
       "    <tr>\n",
       "      <th>popularity</th>\n",
       "      <td>176253.0</td>\n",
       "      <td>32.036249</td>\n",
       "      <td>22.117626</td>\n",
       "      <td>0.0</td>\n",
       "      <td>12.000000</td>\n",
       "      <td>34.00000</td>\n",
       "      <td>49.0000</td>\n",
       "      <td>100.000</td>\n",
       "    </tr>\n",
       "  </tbody>\n",
       "</table>\n",
       "</div>"
      ],
      "text/plain": [
       "                      count           mean            std   min  \\\n",
       "year              1380278.0    2003.585123      17.767251   0.0   \n",
       "duration_ms       1380278.0  246437.692403  158038.881764   0.0   \n",
       "explicit          1380278.0       0.072488       0.259294   0.0   \n",
       "danceability      1380278.0       0.499109       0.188708   0.0   \n",
       "energy            1380278.0       0.506566       0.291348   0.0   \n",
       "key               1380278.0       5.195177       3.534368   0.0   \n",
       "loudness          1380278.0     -11.749399       6.831814 -60.0   \n",
       "mode              1380278.0       0.675468       0.468200   0.0   \n",
       "speechiness       1380278.0       0.086280       0.122854   0.0   \n",
       "acousticness      1380278.0       0.452851       0.384334   0.0   \n",
       "instrumentalness  1380278.0       0.267587       0.370716   0.0   \n",
       "liveness          1380278.0       0.202071       0.179644   0.0   \n",
       "valence           1380278.0       0.440470       0.271462   0.0   \n",
       "tempo             1380278.0     117.556206      30.906640   0.0   \n",
       "popularity         176253.0      32.036249      22.117626   0.0   \n",
       "\n",
       "                            25%           50%          75%          max  \n",
       "year                2000.000000    2008.00000    2015.0000     2023.000  \n",
       "duration_ms       173307.000000  222013.00000  282707.0000  6061090.000  \n",
       "explicit               0.000000       0.00000       0.0000        1.000  \n",
       "danceability           0.364000       0.50700       0.6390        1.000  \n",
       "energy                 0.253000       0.51700       0.7580        1.000  \n",
       "key                    2.000000       5.00000       8.0000       11.000  \n",
       "loudness             -15.110000      -9.87400      -6.7560        7.234  \n",
       "mode                   0.000000       1.00000       1.0000        1.000  \n",
       "speechiness            0.035100       0.04470       0.0729        0.970  \n",
       "acousticness           0.043300       0.40400       0.8640        0.996  \n",
       "instrumentalness       0.000005       0.00473       0.6700        1.000  \n",
       "liveness               0.097100       0.12600       0.2470        1.000  \n",
       "valence                0.204000       0.42100       0.6590        1.000  \n",
       "tempo                 94.016000     116.38000     136.9470      248.934  \n",
       "popularity            12.000000      34.00000      49.0000      100.000  "
      ]
     },
     "execution_count": 23,
     "metadata": {},
     "output_type": "execute_result"
    }
   ],
   "source": [
    "data.describe().T"
   ]
  },
  {
   "cell_type": "markdown",
   "metadata": {},
   "source": [
    "Cantidad de registros unicos de cada columna del dataset"
   ]
  },
  {
   "cell_type": "code",
   "execution_count": 24,
   "metadata": {},
   "outputs": [
    {
     "data": {
      "text/plain": [
       "name                938094\n",
       "artists             188911\n",
       "year                   109\n",
       "duration_ms         220127\n",
       "explicit                 2\n",
       "danceability          1477\n",
       "energy                3639\n",
       "key                     12\n",
       "loudness             44355\n",
       "mode                     2\n",
       "speechiness           1772\n",
       "acousticness          5875\n",
       "instrumentalness      5939\n",
       "liveness              1927\n",
       "valence               2042\n",
       "tempo               154253\n",
       "popularity             101\n",
       "dtype: int64"
      ]
     },
     "execution_count": 24,
     "metadata": {},
     "output_type": "execute_result"
    }
   ],
   "source": [
    "data.nunique()"
   ]
  },
  {
   "cell_type": "markdown",
   "metadata": {},
   "source": [
    "#### Datos duplicados\n",
    "Contamos la cantidad de datos duplicados y los eliminamos del dataset"
   ]
  },
  {
   "cell_type": "code",
   "execution_count": 25,
   "metadata": {},
   "outputs": [
    {
     "name": "stdout",
     "output_type": "stream",
     "text": [
      "11525\n"
     ]
    }
   ],
   "source": [
    "print(data.duplicated().sum())\n",
    "data.drop_duplicates(inplace = True)"
   ]
  },
  {
   "cell_type": "markdown",
   "metadata": {},
   "source": [
    "#### Calidad de los datos\n",
    "Observamos la columna 'year' del dataset."
   ]
  },
  {
   "cell_type": "code",
   "execution_count": 26,
   "metadata": {},
   "outputs": [
    {
     "data": {
      "text/plain": [
       "2020    71174\n",
       "2019    67592\n",
       "2006    58821\n",
       "2007    58153\n",
       "2018    57253\n",
       "        ...  \n",
       "1909       25\n",
       "1908       19\n",
       "1900       14\n",
       "0          11\n",
       "2023        2\n",
       "Name: year, Length: 109, dtype: int64"
      ]
     },
     "execution_count": 26,
     "metadata": {},
     "output_type": "execute_result"
    }
   ],
   "source": [
    "data.year.value_counts()"
   ]
  },
  {
   "cell_type": "markdown",
   "metadata": {},
   "source": [
    "Visualizamos las filas con registros de año 0 "
   ]
  },
  {
   "cell_type": "code",
   "execution_count": 27,
   "metadata": {},
   "outputs": [
    {
     "data": {
      "text/html": [
       "<div>\n",
       "<style scoped>\n",
       "    .dataframe tbody tr th:only-of-type {\n",
       "        vertical-align: middle;\n",
       "    }\n",
       "\n",
       "    .dataframe tbody tr th {\n",
       "        vertical-align: top;\n",
       "    }\n",
       "\n",
       "    .dataframe thead th {\n",
       "        text-align: right;\n",
       "    }\n",
       "</style>\n",
       "<table border=\"1\" class=\"dataframe\">\n",
       "  <thead>\n",
       "    <tr style=\"text-align: right;\">\n",
       "      <th></th>\n",
       "      <th>name</th>\n",
       "      <th>artists</th>\n",
       "      <th>year</th>\n",
       "      <th>duration_ms</th>\n",
       "      <th>explicit</th>\n",
       "      <th>danceability</th>\n",
       "      <th>energy</th>\n",
       "      <th>key</th>\n",
       "      <th>loudness</th>\n",
       "      <th>mode</th>\n",
       "      <th>speechiness</th>\n",
       "      <th>acousticness</th>\n",
       "      <th>instrumentalness</th>\n",
       "      <th>liveness</th>\n",
       "      <th>valence</th>\n",
       "      <th>tempo</th>\n",
       "      <th>popularity</th>\n",
       "    </tr>\n",
       "  </thead>\n",
       "  <tbody>\n",
       "    <tr>\n",
       "      <th>815351</th>\n",
       "      <td>Jimmy Neutron</td>\n",
       "      <td>iCizzle</td>\n",
       "      <td>0</td>\n",
       "      <td>183000</td>\n",
       "      <td>0</td>\n",
       "      <td>0.795</td>\n",
       "      <td>0.562</td>\n",
       "      <td>2</td>\n",
       "      <td>-11.327</td>\n",
       "      <td>1</td>\n",
       "      <td>0.0519</td>\n",
       "      <td>0.01560</td>\n",
       "      <td>0.439</td>\n",
       "      <td>0.0860</td>\n",
       "      <td>0.389</td>\n",
       "      <td>109.985</td>\n",
       "      <td>NaN</td>\n",
       "    </tr>\n",
       "    <tr>\n",
       "      <th>815352</th>\n",
       "      <td>I Luv You</td>\n",
       "      <td>iCizzle</td>\n",
       "      <td>0</td>\n",
       "      <td>145161</td>\n",
       "      <td>0</td>\n",
       "      <td>0.762</td>\n",
       "      <td>0.328</td>\n",
       "      <td>2</td>\n",
       "      <td>-14.319</td>\n",
       "      <td>0</td>\n",
       "      <td>0.0950</td>\n",
       "      <td>0.88700</td>\n",
       "      <td>0.909</td>\n",
       "      <td>0.1060</td>\n",
       "      <td>0.728</td>\n",
       "      <td>92.962</td>\n",
       "      <td>NaN</td>\n",
       "    </tr>\n",
       "    <tr>\n",
       "      <th>815353</th>\n",
       "      <td>My Heart</td>\n",
       "      <td>iCizzle</td>\n",
       "      <td>0</td>\n",
       "      <td>176561</td>\n",
       "      <td>0</td>\n",
       "      <td>0.671</td>\n",
       "      <td>0.545</td>\n",
       "      <td>6</td>\n",
       "      <td>-15.363</td>\n",
       "      <td>0</td>\n",
       "      <td>0.0662</td>\n",
       "      <td>0.00956</td>\n",
       "      <td>0.902</td>\n",
       "      <td>0.0455</td>\n",
       "      <td>0.893</td>\n",
       "      <td>97.865</td>\n",
       "      <td>NaN</td>\n",
       "    </tr>\n",
       "    <tr>\n",
       "      <th>815354</th>\n",
       "      <td>I Am (Invincible)</td>\n",
       "      <td>iCizzle</td>\n",
       "      <td>0</td>\n",
       "      <td>192000</td>\n",
       "      <td>0</td>\n",
       "      <td>0.759</td>\n",
       "      <td>0.582</td>\n",
       "      <td>10</td>\n",
       "      <td>-12.985</td>\n",
       "      <td>0</td>\n",
       "      <td>0.1280</td>\n",
       "      <td>0.00544</td>\n",
       "      <td>0.895</td>\n",
       "      <td>0.0538</td>\n",
       "      <td>0.537</td>\n",
       "      <td>89.989</td>\n",
       "      <td>NaN</td>\n",
       "    </tr>\n",
       "    <tr>\n",
       "      <th>815355</th>\n",
       "      <td>Flower Power</td>\n",
       "      <td>iCizzle</td>\n",
       "      <td>0</td>\n",
       "      <td>138666</td>\n",
       "      <td>0</td>\n",
       "      <td>0.657</td>\n",
       "      <td>0.550</td>\n",
       "      <td>5</td>\n",
       "      <td>-13.842</td>\n",
       "      <td>0</td>\n",
       "      <td>0.2810</td>\n",
       "      <td>0.01800</td>\n",
       "      <td>0.245</td>\n",
       "      <td>0.2410</td>\n",
       "      <td>0.964</td>\n",
       "      <td>179.904</td>\n",
       "      <td>NaN</td>\n",
       "    </tr>\n",
       "    <tr>\n",
       "      <th>815356</th>\n",
       "      <td>Heard It Low</td>\n",
       "      <td>iCizzle</td>\n",
       "      <td>0</td>\n",
       "      <td>138667</td>\n",
       "      <td>0</td>\n",
       "      <td>0.728</td>\n",
       "      <td>0.499</td>\n",
       "      <td>1</td>\n",
       "      <td>-12.557</td>\n",
       "      <td>1</td>\n",
       "      <td>0.0673</td>\n",
       "      <td>0.00785</td>\n",
       "      <td>0.275</td>\n",
       "      <td>0.0865</td>\n",
       "      <td>0.662</td>\n",
       "      <td>90.010</td>\n",
       "      <td>NaN</td>\n",
       "    </tr>\n",
       "    <tr>\n",
       "      <th>815357</th>\n",
       "      <td>Hangin On</td>\n",
       "      <td>iCizzle</td>\n",
       "      <td>0</td>\n",
       "      <td>142620</td>\n",
       "      <td>0</td>\n",
       "      <td>0.822</td>\n",
       "      <td>0.720</td>\n",
       "      <td>10</td>\n",
       "      <td>-14.481</td>\n",
       "      <td>0</td>\n",
       "      <td>0.0758</td>\n",
       "      <td>0.11500</td>\n",
       "      <td>0.881</td>\n",
       "      <td>0.1210</td>\n",
       "      <td>0.766</td>\n",
       "      <td>119.998</td>\n",
       "      <td>NaN</td>\n",
       "    </tr>\n",
       "    <tr>\n",
       "      <th>815358</th>\n",
       "      <td>God Loves You</td>\n",
       "      <td>iCizzle</td>\n",
       "      <td>0</td>\n",
       "      <td>161000</td>\n",
       "      <td>0</td>\n",
       "      <td>0.845</td>\n",
       "      <td>0.673</td>\n",
       "      <td>7</td>\n",
       "      <td>-12.835</td>\n",
       "      <td>1</td>\n",
       "      <td>0.0662</td>\n",
       "      <td>0.00274</td>\n",
       "      <td>0.548</td>\n",
       "      <td>0.0393</td>\n",
       "      <td>0.472</td>\n",
       "      <td>120.090</td>\n",
       "      <td>NaN</td>\n",
       "    </tr>\n",
       "    <tr>\n",
       "      <th>815359</th>\n",
       "      <td>You In My Life</td>\n",
       "      <td>iCizzle</td>\n",
       "      <td>0</td>\n",
       "      <td>214867</td>\n",
       "      <td>0</td>\n",
       "      <td>0.957</td>\n",
       "      <td>0.104</td>\n",
       "      <td>7</td>\n",
       "      <td>-22.989</td>\n",
       "      <td>1</td>\n",
       "      <td>0.0623</td>\n",
       "      <td>0.13300</td>\n",
       "      <td>0.857</td>\n",
       "      <td>0.0968</td>\n",
       "      <td>0.258</td>\n",
       "      <td>112.987</td>\n",
       "      <td>NaN</td>\n",
       "    </tr>\n",
       "    <tr>\n",
       "      <th>815360</th>\n",
       "      <td>I Wonder</td>\n",
       "      <td>iCizzle</td>\n",
       "      <td>0</td>\n",
       "      <td>180822</td>\n",
       "      <td>0</td>\n",
       "      <td>0.659</td>\n",
       "      <td>0.453</td>\n",
       "      <td>5</td>\n",
       "      <td>-17.464</td>\n",
       "      <td>0</td>\n",
       "      <td>0.0581</td>\n",
       "      <td>0.00196</td>\n",
       "      <td>0.854</td>\n",
       "      <td>0.3710</td>\n",
       "      <td>0.877</td>\n",
       "      <td>146.020</td>\n",
       "      <td>NaN</td>\n",
       "    </tr>\n",
       "    <tr>\n",
       "      <th>1376885</th>\n",
       "      <td>NaN</td>\n",
       "      <td>NaN</td>\n",
       "      <td>0</td>\n",
       "      <td>0</td>\n",
       "      <td>1</td>\n",
       "      <td>0.420</td>\n",
       "      <td>0.701</td>\n",
       "      <td>1</td>\n",
       "      <td>-7.582</td>\n",
       "      <td>0</td>\n",
       "      <td>0.3390</td>\n",
       "      <td>0.83200</td>\n",
       "      <td>0.000</td>\n",
       "      <td>0.1030</td>\n",
       "      <td>0.671</td>\n",
       "      <td>79.716</td>\n",
       "      <td>0.0</td>\n",
       "    </tr>\n",
       "  </tbody>\n",
       "</table>\n",
       "</div>"
      ],
      "text/plain": [
       "                      name  artists  year  duration_ms  explicit  \\\n",
       "815351       Jimmy Neutron  iCizzle     0       183000         0   \n",
       "815352           I Luv You  iCizzle     0       145161         0   \n",
       "815353            My Heart  iCizzle     0       176561         0   \n",
       "815354   I Am (Invincible)  iCizzle     0       192000         0   \n",
       "815355        Flower Power  iCizzle     0       138666         0   \n",
       "815356        Heard It Low  iCizzle     0       138667         0   \n",
       "815357           Hangin On  iCizzle     0       142620         0   \n",
       "815358       God Loves You  iCizzle     0       161000         0   \n",
       "815359      You In My Life  iCizzle     0       214867         0   \n",
       "815360            I Wonder  iCizzle     0       180822         0   \n",
       "1376885                NaN      NaN     0            0         1   \n",
       "\n",
       "         danceability  energy  key  loudness  mode  speechiness  acousticness  \\\n",
       "815351          0.795   0.562    2   -11.327     1       0.0519       0.01560   \n",
       "815352          0.762   0.328    2   -14.319     0       0.0950       0.88700   \n",
       "815353          0.671   0.545    6   -15.363     0       0.0662       0.00956   \n",
       "815354          0.759   0.582   10   -12.985     0       0.1280       0.00544   \n",
       "815355          0.657   0.550    5   -13.842     0       0.2810       0.01800   \n",
       "815356          0.728   0.499    1   -12.557     1       0.0673       0.00785   \n",
       "815357          0.822   0.720   10   -14.481     0       0.0758       0.11500   \n",
       "815358          0.845   0.673    7   -12.835     1       0.0662       0.00274   \n",
       "815359          0.957   0.104    7   -22.989     1       0.0623       0.13300   \n",
       "815360          0.659   0.453    5   -17.464     0       0.0581       0.00196   \n",
       "1376885         0.420   0.701    1    -7.582     0       0.3390       0.83200   \n",
       "\n",
       "         instrumentalness  liveness  valence    tempo  popularity  \n",
       "815351              0.439    0.0860    0.389  109.985         NaN  \n",
       "815352              0.909    0.1060    0.728   92.962         NaN  \n",
       "815353              0.902    0.0455    0.893   97.865         NaN  \n",
       "815354              0.895    0.0538    0.537   89.989         NaN  \n",
       "815355              0.245    0.2410    0.964  179.904         NaN  \n",
       "815356              0.275    0.0865    0.662   90.010         NaN  \n",
       "815357              0.881    0.1210    0.766  119.998         NaN  \n",
       "815358              0.548    0.0393    0.472  120.090         NaN  \n",
       "815359              0.857    0.0968    0.258  112.987         NaN  \n",
       "815360              0.854    0.3710    0.877  146.020         NaN  \n",
       "1376885             0.000    0.1030    0.671   79.716         0.0  "
      ]
     },
     "execution_count": 27,
     "metadata": {},
     "output_type": "execute_result"
    }
   ],
   "source": [
    "data[data.year == 0]"
   ]
  },
  {
   "cell_type": "markdown",
   "metadata": {},
   "source": [
    "Eliminamos las filas con registro de años 0"
   ]
  },
  {
   "cell_type": "code",
   "execution_count": 28,
   "metadata": {},
   "outputs": [],
   "source": [
    "data.drop(index = data[data.year == 0].index, inplace = True)"
   ]
  },
  {
   "cell_type": "markdown",
   "metadata": {},
   "source": [
    "#### Información final del dataset"
   ]
  },
  {
   "cell_type": "code",
   "execution_count": 29,
   "metadata": {},
   "outputs": [
    {
     "name": "stdout",
     "output_type": "stream",
     "text": [
      "<class 'pandas.core.frame.DataFrame'>\n",
      "Int64Index: 1368742 entries, 0 to 1380277\n",
      "Data columns (total 17 columns):\n",
      " #   Column            Non-Null Count    Dtype  \n",
      "---  ------            --------------    -----  \n",
      " 0   name              1368742 non-null  object \n",
      " 1   artists           1368742 non-null  object \n",
      " 2   year              1368742 non-null  int64  \n",
      " 3   duration_ms       1368742 non-null  int64  \n",
      " 4   explicit          1368742 non-null  int64  \n",
      " 5   danceability      1368742 non-null  float64\n",
      " 6   energy            1368742 non-null  float64\n",
      " 7   key               1368742 non-null  int64  \n",
      " 8   loudness          1368742 non-null  float64\n",
      " 9   mode              1368742 non-null  int64  \n",
      " 10  speechiness       1368742 non-null  float64\n",
      " 11  acousticness      1368742 non-null  float64\n",
      " 12  instrumentalness  1368742 non-null  float64\n",
      " 13  liveness          1368742 non-null  float64\n",
      " 14  valence           1368742 non-null  float64\n",
      " 15  tempo             1368742 non-null  float64\n",
      " 16  popularity        175599 non-null   float64\n",
      "dtypes: float64(10), int64(5), object(2)\n",
      "memory usage: 188.0+ MB\n"
     ]
    }
   ],
   "source": [
    "data.info()"
   ]
  },
  {
   "cell_type": "markdown",
   "metadata": {
    "tags": []
   },
   "source": [
    "## Paso 3: Definir el modelo de datos"
   ]
  },
  {
   "cell_type": "markdown",
   "metadata": {},
   "source": [
    "1. Trazar el modelo de datos conceptuales y explicar por qué se eligió ese modelo.\n",
    "2. Diseñar la arquitectura y los recursos utilizados.\n",
    "3. Indique claramente los motivos de la elección de las herramientas y tecnologías para el proyecto.\n",
    "4. Proponga con qué frecuencia deben actualizarse los datos y por qué."
   ]
  },
  {
   "cell_type": "markdown",
   "metadata": {
    "tags": []
   },
   "source": [
    "### Desarrollo:"
   ]
  },
  {
   "cell_type": "markdown",
   "metadata": {},
   "source": [
    "Debido a la naturaleza del problema, se decide usar un modelo de regresión que sea robusto y preciso pero fácil de implementar. Para este ejercicio usamos el modelo de regresón de CatBoost que mejora los arboles de decisión mediante un aumento del gradiente.\n",
    "\n",
    "Este algoritmo se utiliza para búsqueda, sistemas de recomendación, asistente personal, automóviles autónomos, predicción del tiempo por lo cual lo hace ideal para nuestro conjunto de datos.\n",
    "\n",
    "La idea de nuestro proyecto es realizar la predicción de la popularidad de una cancion, la cual varia entre 0 y 100, de acuerdo a unas características propias por lo cual se decide separar el dataset en 2.\n",
    "\n",
    "El primer dataset será para realizar la predicción de la popularidad y el segundo dataset sera para realizar el entrenamiento y la prueba del modelo Catboost. "
   ]
  },
  {
   "cell_type": "markdown",
   "metadata": {},
   "source": [
    "#### Separación de datos\n",
    "Creamos el dataset con el que se realizará el modelo de predicción y eliminamos las variables categóricas."
   ]
  },
  {
   "cell_type": "code",
   "execution_count": 30,
   "metadata": {},
   "outputs": [],
   "source": [
    "data_modelo = data.dropna()\n",
    "data_modelo.drop(['name', 'artists'], axis = 1, inplace = True)"
   ]
  },
  {
   "cell_type": "code",
   "execution_count": 31,
   "metadata": {},
   "outputs": [
    {
     "data": {
      "text/html": [
       "<div>\n",
       "<style scoped>\n",
       "    .dataframe tbody tr th:only-of-type {\n",
       "        vertical-align: middle;\n",
       "    }\n",
       "\n",
       "    .dataframe tbody tr th {\n",
       "        vertical-align: top;\n",
       "    }\n",
       "\n",
       "    .dataframe thead th {\n",
       "        text-align: right;\n",
       "    }\n",
       "</style>\n",
       "<table border=\"1\" class=\"dataframe\">\n",
       "  <thead>\n",
       "    <tr style=\"text-align: right;\">\n",
       "      <th></th>\n",
       "      <th>year</th>\n",
       "      <th>duration_ms</th>\n",
       "      <th>explicit</th>\n",
       "      <th>danceability</th>\n",
       "      <th>energy</th>\n",
       "      <th>key</th>\n",
       "      <th>loudness</th>\n",
       "      <th>mode</th>\n",
       "      <th>speechiness</th>\n",
       "      <th>acousticness</th>\n",
       "      <th>instrumentalness</th>\n",
       "      <th>liveness</th>\n",
       "      <th>valence</th>\n",
       "      <th>tempo</th>\n",
       "      <th>popularity</th>\n",
       "    </tr>\n",
       "  </thead>\n",
       "  <tbody>\n",
       "    <tr>\n",
       "      <th>1204025</th>\n",
       "      <td>1921</td>\n",
       "      <td>831667</td>\n",
       "      <td>0</td>\n",
       "      <td>0.279</td>\n",
       "      <td>0.211</td>\n",
       "      <td>10</td>\n",
       "      <td>-20.096</td>\n",
       "      <td>1</td>\n",
       "      <td>0.0366</td>\n",
       "      <td>0.98200</td>\n",
       "      <td>0.878000</td>\n",
       "      <td>0.6650</td>\n",
       "      <td>0.0594</td>\n",
       "      <td>80.954</td>\n",
       "      <td>4.0</td>\n",
       "    </tr>\n",
       "    <tr>\n",
       "      <th>1204026</th>\n",
       "      <td>1921</td>\n",
       "      <td>180533</td>\n",
       "      <td>0</td>\n",
       "      <td>0.819</td>\n",
       "      <td>0.341</td>\n",
       "      <td>7</td>\n",
       "      <td>-12.441</td>\n",
       "      <td>1</td>\n",
       "      <td>0.4150</td>\n",
       "      <td>0.73200</td>\n",
       "      <td>0.000000</td>\n",
       "      <td>0.1600</td>\n",
       "      <td>0.9630</td>\n",
       "      <td>60.936</td>\n",
       "      <td>5.0</td>\n",
       "    </tr>\n",
       "    <tr>\n",
       "      <th>1204027</th>\n",
       "      <td>1921</td>\n",
       "      <td>500062</td>\n",
       "      <td>0</td>\n",
       "      <td>0.328</td>\n",
       "      <td>0.166</td>\n",
       "      <td>3</td>\n",
       "      <td>-14.850</td>\n",
       "      <td>1</td>\n",
       "      <td>0.0339</td>\n",
       "      <td>0.96100</td>\n",
       "      <td>0.913000</td>\n",
       "      <td>0.1010</td>\n",
       "      <td>0.0394</td>\n",
       "      <td>110.339</td>\n",
       "      <td>5.0</td>\n",
       "    </tr>\n",
       "    <tr>\n",
       "      <th>1204028</th>\n",
       "      <td>1921</td>\n",
       "      <td>210000</td>\n",
       "      <td>0</td>\n",
       "      <td>0.275</td>\n",
       "      <td>0.309</td>\n",
       "      <td>5</td>\n",
       "      <td>-9.316</td>\n",
       "      <td>1</td>\n",
       "      <td>0.0354</td>\n",
       "      <td>0.96700</td>\n",
       "      <td>0.000028</td>\n",
       "      <td>0.3810</td>\n",
       "      <td>0.1650</td>\n",
       "      <td>100.109</td>\n",
       "      <td>3.0</td>\n",
       "    </tr>\n",
       "    <tr>\n",
       "      <th>1204029</th>\n",
       "      <td>1921</td>\n",
       "      <td>166693</td>\n",
       "      <td>0</td>\n",
       "      <td>0.418</td>\n",
       "      <td>0.193</td>\n",
       "      <td>3</td>\n",
       "      <td>-10.096</td>\n",
       "      <td>1</td>\n",
       "      <td>0.0380</td>\n",
       "      <td>0.95700</td>\n",
       "      <td>0.000002</td>\n",
       "      <td>0.2290</td>\n",
       "      <td>0.2530</td>\n",
       "      <td>101.665</td>\n",
       "      <td>2.0</td>\n",
       "    </tr>\n",
       "    <tr>\n",
       "      <th>...</th>\n",
       "      <td>...</td>\n",
       "      <td>...</td>\n",
       "      <td>...</td>\n",
       "      <td>...</td>\n",
       "      <td>...</td>\n",
       "      <td>...</td>\n",
       "      <td>...</td>\n",
       "      <td>...</td>\n",
       "      <td>...</td>\n",
       "      <td>...</td>\n",
       "      <td>...</td>\n",
       "      <td>...</td>\n",
       "      <td>...</td>\n",
       "      <td>...</td>\n",
       "      <td>...</td>\n",
       "    </tr>\n",
       "    <tr>\n",
       "      <th>1380273</th>\n",
       "      <td>2020</td>\n",
       "      <td>213333</td>\n",
       "      <td>1</td>\n",
       "      <td>0.480</td>\n",
       "      <td>0.602</td>\n",
       "      <td>10</td>\n",
       "      <td>-6.335</td>\n",
       "      <td>0</td>\n",
       "      <td>0.3680</td>\n",
       "      <td>0.48700</td>\n",
       "      <td>0.000000</td>\n",
       "      <td>0.0848</td>\n",
       "      <td>0.2690</td>\n",
       "      <td>179.798</td>\n",
       "      <td>78.0</td>\n",
       "    </tr>\n",
       "    <tr>\n",
       "      <th>1380274</th>\n",
       "      <td>2020</td>\n",
       "      <td>158466</td>\n",
       "      <td>1</td>\n",
       "      <td>0.739</td>\n",
       "      <td>0.616</td>\n",
       "      <td>7</td>\n",
       "      <td>-6.963</td>\n",
       "      <td>0</td>\n",
       "      <td>0.0338</td>\n",
       "      <td>0.25200</td>\n",
       "      <td>0.000002</td>\n",
       "      <td>0.1010</td>\n",
       "      <td>0.6540</td>\n",
       "      <td>91.071</td>\n",
       "      <td>69.0</td>\n",
       "    </tr>\n",
       "    <tr>\n",
       "      <th>1380275</th>\n",
       "      <td>2020</td>\n",
       "      <td>160000</td>\n",
       "      <td>1</td>\n",
       "      <td>0.709</td>\n",
       "      <td>0.548</td>\n",
       "      <td>10</td>\n",
       "      <td>-8.493</td>\n",
       "      <td>1</td>\n",
       "      <td>0.3530</td>\n",
       "      <td>0.65000</td>\n",
       "      <td>0.000002</td>\n",
       "      <td>0.1330</td>\n",
       "      <td>0.5430</td>\n",
       "      <td>83.995</td>\n",
       "      <td>81.0</td>\n",
       "    </tr>\n",
       "    <tr>\n",
       "      <th>1380276</th>\n",
       "      <td>2020</td>\n",
       "      <td>164579</td>\n",
       "      <td>1</td>\n",
       "      <td>0.688</td>\n",
       "      <td>0.647</td>\n",
       "      <td>2</td>\n",
       "      <td>-7.258</td>\n",
       "      <td>1</td>\n",
       "      <td>0.1900</td>\n",
       "      <td>0.00815</td>\n",
       "      <td>0.000017</td>\n",
       "      <td>0.0950</td>\n",
       "      <td>0.1950</td>\n",
       "      <td>88.834</td>\n",
       "      <td>77.0</td>\n",
       "    </tr>\n",
       "    <tr>\n",
       "      <th>1380277</th>\n",
       "      <td>2020</td>\n",
       "      <td>151011</td>\n",
       "      <td>1</td>\n",
       "      <td>0.688</td>\n",
       "      <td>0.610</td>\n",
       "      <td>11</td>\n",
       "      <td>-6.790</td>\n",
       "      <td>1</td>\n",
       "      <td>0.1090</td>\n",
       "      <td>0.19800</td>\n",
       "      <td>0.001540</td>\n",
       "      <td>0.1140</td>\n",
       "      <td>0.2010</td>\n",
       "      <td>88.995</td>\n",
       "      <td>66.0</td>\n",
       "    </tr>\n",
       "  </tbody>\n",
       "</table>\n",
       "<p>175599 rows × 15 columns</p>\n",
       "</div>"
      ],
      "text/plain": [
       "         year  duration_ms  explicit  danceability  energy  key  loudness  \\\n",
       "1204025  1921       831667         0         0.279   0.211   10   -20.096   \n",
       "1204026  1921       180533         0         0.819   0.341    7   -12.441   \n",
       "1204027  1921       500062         0         0.328   0.166    3   -14.850   \n",
       "1204028  1921       210000         0         0.275   0.309    5    -9.316   \n",
       "1204029  1921       166693         0         0.418   0.193    3   -10.096   \n",
       "...       ...          ...       ...           ...     ...  ...       ...   \n",
       "1380273  2020       213333         1         0.480   0.602   10    -6.335   \n",
       "1380274  2020       158466         1         0.739   0.616    7    -6.963   \n",
       "1380275  2020       160000         1         0.709   0.548   10    -8.493   \n",
       "1380276  2020       164579         1         0.688   0.647    2    -7.258   \n",
       "1380277  2020       151011         1         0.688   0.610   11    -6.790   \n",
       "\n",
       "         mode  speechiness  acousticness  instrumentalness  liveness  valence  \\\n",
       "1204025     1       0.0366       0.98200          0.878000    0.6650   0.0594   \n",
       "1204026     1       0.4150       0.73200          0.000000    0.1600   0.9630   \n",
       "1204027     1       0.0339       0.96100          0.913000    0.1010   0.0394   \n",
       "1204028     1       0.0354       0.96700          0.000028    0.3810   0.1650   \n",
       "1204029     1       0.0380       0.95700          0.000002    0.2290   0.2530   \n",
       "...       ...          ...           ...               ...       ...      ...   \n",
       "1380273     0       0.3680       0.48700          0.000000    0.0848   0.2690   \n",
       "1380274     0       0.0338       0.25200          0.000002    0.1010   0.6540   \n",
       "1380275     1       0.3530       0.65000          0.000002    0.1330   0.5430   \n",
       "1380276     1       0.1900       0.00815          0.000017    0.0950   0.1950   \n",
       "1380277     1       0.1090       0.19800          0.001540    0.1140   0.2010   \n",
       "\n",
       "           tempo  popularity  \n",
       "1204025   80.954         4.0  \n",
       "1204026   60.936         5.0  \n",
       "1204027  110.339         5.0  \n",
       "1204028  100.109         3.0  \n",
       "1204029  101.665         2.0  \n",
       "...          ...         ...  \n",
       "1380273  179.798        78.0  \n",
       "1380274   91.071        69.0  \n",
       "1380275   83.995        81.0  \n",
       "1380276   88.834        77.0  \n",
       "1380277   88.995        66.0  \n",
       "\n",
       "[175599 rows x 15 columns]"
      ]
     },
     "execution_count": 31,
     "metadata": {},
     "output_type": "execute_result"
    }
   ],
   "source": [
    "data_modelo"
   ]
  },
  {
   "cell_type": "markdown",
   "metadata": {},
   "source": [
    "#### Selección del modelo y ajuste de hiperparámetros\n",
    "Creamos el objeto con el modelo a utilizar y sus hiperparámetros"
   ]
  },
  {
   "cell_type": "code",
   "execution_count": 32,
   "metadata": {},
   "outputs": [],
   "source": [
    "model_cat = cb.CatBoostRegressor(verbose = False, thread_count = -1, random_state = 0)"
   ]
  },
  {
   "cell_type": "markdown",
   "metadata": {},
   "source": [
    "#### Estandarización\n",
    "Estandarizamos el dataset con media 0 y desviación estandar 1."
   ]
  },
  {
   "cell_type": "code",
   "execution_count": 33,
   "metadata": {},
   "outputs": [
    {
     "name": "stdout",
     "output_type": "stream",
     "text": [
      "Standardized means: [ 0.  0. -0.  0.  0. -0. -0.  0. -0.  0. -0.  0. -0.  0.  0.]\n",
      "Standardized deviations: [1. 1. 1. 1. 1. 1. 1. 1. 1. 1. 1. 1. 1. 1. 1.]\n"
     ]
    }
   ],
   "source": [
    "scaler = StandardScaler()\n",
    "scaler.fit(data_modelo)\n",
    "data_normalized = scaler.transform(data_modelo)\n",
    "\n",
    "print('Standardized means:', np.mean(data_normalized, axis = 0).round(2))\n",
    "print('Standardized deviations:', np.std(data_normalized, axis = 0).round(2))"
   ]
  },
  {
   "cell_type": "markdown",
   "metadata": {},
   "source": [
    "Creamos un nuevo dataset con la estandarización realizada."
   ]
  },
  {
   "cell_type": "code",
   "execution_count": 34,
   "metadata": {},
   "outputs": [
    {
     "data": {
      "text/html": [
       "<div>\n",
       "<style scoped>\n",
       "    .dataframe tbody tr th:only-of-type {\n",
       "        vertical-align: middle;\n",
       "    }\n",
       "\n",
       "    .dataframe tbody tr th {\n",
       "        vertical-align: top;\n",
       "    }\n",
       "\n",
       "    .dataframe thead th {\n",
       "        text-align: right;\n",
       "    }\n",
       "</style>\n",
       "<table border=\"1\" class=\"dataframe\">\n",
       "  <thead>\n",
       "    <tr style=\"text-align: right;\">\n",
       "      <th></th>\n",
       "      <th>year</th>\n",
       "      <th>duration_ms</th>\n",
       "      <th>explicit</th>\n",
       "      <th>danceability</th>\n",
       "      <th>energy</th>\n",
       "      <th>key</th>\n",
       "      <th>loudness</th>\n",
       "      <th>mode</th>\n",
       "      <th>speechiness</th>\n",
       "      <th>acousticness</th>\n",
       "      <th>instrumentalness</th>\n",
       "      <th>liveness</th>\n",
       "      <th>valence</th>\n",
       "      <th>tempo</th>\n",
       "      <th>popularity</th>\n",
       "    </tr>\n",
       "  </thead>\n",
       "  <tbody>\n",
       "    <tr>\n",
       "      <th>count</th>\n",
       "      <td>175599.00</td>\n",
       "      <td>175599.00</td>\n",
       "      <td>175599.00</td>\n",
       "      <td>175599.00</td>\n",
       "      <td>175599.00</td>\n",
       "      <td>175599.00</td>\n",
       "      <td>175599.00</td>\n",
       "      <td>175599.00</td>\n",
       "      <td>175599.00</td>\n",
       "      <td>175599.00</td>\n",
       "      <td>175599.00</td>\n",
       "      <td>175599.00</td>\n",
       "      <td>175599.00</td>\n",
       "      <td>175599.00</td>\n",
       "      <td>175599.00</td>\n",
       "    </tr>\n",
       "    <tr>\n",
       "      <th>mean</th>\n",
       "      <td>0.00</td>\n",
       "      <td>0.00</td>\n",
       "      <td>-0.00</td>\n",
       "      <td>0.00</td>\n",
       "      <td>0.00</td>\n",
       "      <td>-0.00</td>\n",
       "      <td>-0.00</td>\n",
       "      <td>0.00</td>\n",
       "      <td>-0.00</td>\n",
       "      <td>0.00</td>\n",
       "      <td>-0.00</td>\n",
       "      <td>0.00</td>\n",
       "      <td>-0.00</td>\n",
       "      <td>0.00</td>\n",
       "      <td>0.00</td>\n",
       "    </tr>\n",
       "    <tr>\n",
       "      <th>std</th>\n",
       "      <td>1.00</td>\n",
       "      <td>1.00</td>\n",
       "      <td>1.00</td>\n",
       "      <td>1.00</td>\n",
       "      <td>1.00</td>\n",
       "      <td>1.00</td>\n",
       "      <td>1.00</td>\n",
       "      <td>1.00</td>\n",
       "      <td>1.00</td>\n",
       "      <td>1.00</td>\n",
       "      <td>1.00</td>\n",
       "      <td>1.00</td>\n",
       "      <td>1.00</td>\n",
       "      <td>1.00</td>\n",
       "      <td>1.00</td>\n",
       "    </tr>\n",
       "    <tr>\n",
       "      <th>min</th>\n",
       "      <td>-2.16</td>\n",
       "      <td>-1.81</td>\n",
       "      <td>-0.33</td>\n",
       "      <td>-3.07</td>\n",
       "      <td>-1.83</td>\n",
       "      <td>-1.48</td>\n",
       "      <td>-8.59</td>\n",
       "      <td>-1.54</td>\n",
       "      <td>-0.61</td>\n",
       "      <td>-1.31</td>\n",
       "      <td>-0.52</td>\n",
       "      <td>-1.18</td>\n",
       "      <td>-2.01</td>\n",
       "      <td>-3.81</td>\n",
       "      <td>-1.45</td>\n",
       "    </tr>\n",
       "    <tr>\n",
       "      <th>25%</th>\n",
       "      <td>-0.80</td>\n",
       "      <td>-0.48</td>\n",
       "      <td>-0.33</td>\n",
       "      <td>-0.69</td>\n",
       "      <td>-0.85</td>\n",
       "      <td>-0.91</td>\n",
       "      <td>-0.55</td>\n",
       "      <td>-1.54</td>\n",
       "      <td>-0.40</td>\n",
       "      <td>-1.06</td>\n",
       "      <td>-0.52</td>\n",
       "      <td>-0.61</td>\n",
       "      <td>-0.81</td>\n",
       "      <td>-0.77</td>\n",
       "      <td>-0.91</td>\n",
       "    </tr>\n",
       "    <tr>\n",
       "      <th>50%</th>\n",
       "      <td>0.03</td>\n",
       "      <td>-0.19</td>\n",
       "      <td>-0.33</td>\n",
       "      <td>0.06</td>\n",
       "      <td>-0.03</td>\n",
       "      <td>-0.06</td>\n",
       "      <td>0.16</td>\n",
       "      <td>0.65</td>\n",
       "      <td>-0.33</td>\n",
       "      <td>0.00</td>\n",
       "      <td>-0.52</td>\n",
       "      <td>-0.40</td>\n",
       "      <td>0.04</td>\n",
       "      <td>-0.07</td>\n",
       "      <td>0.09</td>\n",
       "    </tr>\n",
       "    <tr>\n",
       "      <th>75%</th>\n",
       "      <td>0.87</td>\n",
       "      <td>0.25</td>\n",
       "      <td>-0.33</td>\n",
       "      <td>0.74</td>\n",
       "      <td>0.82</td>\n",
       "      <td>0.80</td>\n",
       "      <td>0.75</td>\n",
       "      <td>0.65</td>\n",
       "      <td>-0.13</td>\n",
       "      <td>1.04</td>\n",
       "      <td>-0.25</td>\n",
       "      <td>0.32</td>\n",
       "      <td>0.83</td>\n",
       "      <td>0.61</td>\n",
       "      <td>0.77</td>\n",
       "    </tr>\n",
       "    <tr>\n",
       "      <th>max</th>\n",
       "      <td>1.70</td>\n",
       "      <td>41.54</td>\n",
       "      <td>3.02</td>\n",
       "      <td>2.53</td>\n",
       "      <td>1.93</td>\n",
       "      <td>1.65</td>\n",
       "      <td>2.68</td>\n",
       "      <td>0.65</td>\n",
       "      <td>5.38</td>\n",
       "      <td>1.34</td>\n",
       "      <td>2.71</td>\n",
       "      <td>4.57</td>\n",
       "      <td>1.80</td>\n",
       "      <td>4.12</td>\n",
       "      <td>3.08</td>\n",
       "    </tr>\n",
       "  </tbody>\n",
       "</table>\n",
       "</div>"
      ],
      "text/plain": [
       "            year  duration_ms   explicit  danceability     energy        key  \\\n",
       "count  175599.00    175599.00  175599.00     175599.00  175599.00  175599.00   \n",
       "mean        0.00         0.00      -0.00          0.00       0.00      -0.00   \n",
       "std         1.00         1.00       1.00          1.00       1.00       1.00   \n",
       "min        -2.16        -1.81      -0.33         -3.07      -1.83      -1.48   \n",
       "25%        -0.80        -0.48      -0.33         -0.69      -0.85      -0.91   \n",
       "50%         0.03        -0.19      -0.33          0.06      -0.03      -0.06   \n",
       "75%         0.87         0.25      -0.33          0.74       0.82       0.80   \n",
       "max         1.70        41.54       3.02          2.53       1.93       1.65   \n",
       "\n",
       "        loudness       mode  speechiness  acousticness  instrumentalness  \\\n",
       "count  175599.00  175599.00    175599.00     175599.00         175599.00   \n",
       "mean       -0.00       0.00        -0.00          0.00             -0.00   \n",
       "std         1.00       1.00         1.00          1.00              1.00   \n",
       "min        -8.59      -1.54        -0.61         -1.31             -0.52   \n",
       "25%        -0.55      -1.54        -0.40         -1.06             -0.52   \n",
       "50%         0.16       0.65        -0.33          0.00             -0.52   \n",
       "75%         0.75       0.65        -0.13          1.04             -0.25   \n",
       "max         2.68       0.65         5.38          1.34              2.71   \n",
       "\n",
       "        liveness    valence      tempo  popularity  \n",
       "count  175599.00  175599.00  175599.00   175599.00  \n",
       "mean        0.00      -0.00       0.00        0.00  \n",
       "std         1.00       1.00       1.00        1.00  \n",
       "min        -1.18      -2.01      -3.81       -1.45  \n",
       "25%        -0.61      -0.81      -0.77       -0.91  \n",
       "50%        -0.40       0.04      -0.07        0.09  \n",
       "75%         0.32       0.83       0.61        0.77  \n",
       "max         4.57       1.80       4.12        3.08  "
      ]
     },
     "execution_count": 34,
     "metadata": {},
     "output_type": "execute_result"
    }
   ],
   "source": [
    "data_normalized = pd.DataFrame(data_normalized, index = data_modelo.index, columns = data_modelo.columns)\n",
    "data_normalized.describe().round(2)"
   ]
  },
  {
   "cell_type": "markdown",
   "metadata": {},
   "source": [
    "#### Vector Target\n",
    "Separamos el dataset en vectores predictores y vector target."
   ]
  },
  {
   "cell_type": "code",
   "execution_count": 35,
   "metadata": {},
   "outputs": [],
   "source": [
    "X = data_modelo.drop(['popularity'], axis = 1)\n",
    "y = data_modelo.popularity"
   ]
  },
  {
   "cell_type": "markdown",
   "metadata": {},
   "source": [
    "#### Train y Test\n",
    "Separamos el dataset en datos de entrenamiento y de testeo."
   ]
  },
  {
   "cell_type": "code",
   "execution_count": 36,
   "metadata": {},
   "outputs": [],
   "source": [
    "X_train, X_test, y_train, y_test = train_test_split(X, y, random_state = 0, shuffle = True)"
   ]
  },
  {
   "cell_type": "markdown",
   "metadata": {},
   "source": [
    "#### Ajuste del modelo"
   ]
  },
  {
   "cell_type": "code",
   "execution_count": 37,
   "metadata": {},
   "outputs": [
    {
     "data": {
      "text/plain": [
       "<catboost.core.CatBoostRegressor at 0x23472819220>"
      ]
     },
     "execution_count": 37,
     "metadata": {},
     "output_type": "execute_result"
    }
   ],
   "source": [
    "model_cat.fit(X_train, y_train)"
   ]
  },
  {
   "cell_type": "markdown",
   "metadata": {},
   "source": [
    "#### Validación del modelo\n",
    "Validamos el modelo con los datos de test"
   ]
  },
  {
   "cell_type": "code",
   "execution_count": 38,
   "metadata": {},
   "outputs": [
    {
     "data": {
      "text/plain": [
       "array([-1.13333776,  0.41094623, -0.38500217, ..., 38.16542843,\n",
       "        6.92557188, 36.47854504])"
      ]
     },
     "execution_count": 38,
     "metadata": {},
     "output_type": "execute_result"
    }
   ],
   "source": [
    "y_pred = model_cat.predict(X_test)\n",
    "y_pred"
   ]
  },
  {
   "cell_type": "markdown",
   "metadata": {},
   "source": [
    "#### Desempeño del Modelo\n",
    "Evaluamos el desempeño del modelo a través del R^2"
   ]
  },
  {
   "cell_type": "code",
   "execution_count": 39,
   "metadata": {},
   "outputs": [
    {
     "data": {
      "text/plain": [
       "0.7770642293207453"
      ]
     },
     "execution_count": 39,
     "metadata": {},
     "output_type": "execute_result"
    }
   ],
   "source": [
    "r2_score(y_test, y_pred)"
   ]
  },
  {
   "cell_type": "markdown",
   "metadata": {},
   "source": [
    "#### Predicción de popularidad\n",
    "Creamos el dataset para realizar la predicción de popularidad de algunas canciones."
   ]
  },
  {
   "cell_type": "code",
   "execution_count": 40,
   "metadata": {},
   "outputs": [
    {
     "data": {
      "text/plain": [
       "(1193143, 14)"
      ]
     },
     "execution_count": 40,
     "metadata": {},
     "output_type": "execute_result"
    }
   ],
   "source": [
    "data_pred = data[data.popularity.isna()]\n",
    "data_pred = data_pred.drop(['name', 'artists','popularity'], axis = 1, inplace = False)\n",
    "data_pred.shape"
   ]
  },
  {
   "cell_type": "markdown",
   "metadata": {},
   "source": [
    "Predecimos la popularidad de las canciones de dataset creado con el modelo ya entrenado."
   ]
  },
  {
   "cell_type": "code",
   "execution_count": 41,
   "metadata": {},
   "outputs": [],
   "source": [
    "y_pred_2 = model_cat.predict(data_pred)"
   ]
  },
  {
   "cell_type": "markdown",
   "metadata": {},
   "source": [
    "Asignamos la popularidad predicha por el modelo al dataset creado"
   ]
  },
  {
   "cell_type": "code",
   "execution_count": 42,
   "metadata": {},
   "outputs": [],
   "source": [
    "data_pred = data[data.popularity.isna()]\n",
    "data_pred['popularity'] = y_pred_2.round(0).astype(int)"
   ]
  },
  {
   "cell_type": "markdown",
   "metadata": {},
   "source": [
    "#### Dataset final\n",
    "Creamos el dataset final donde esta el dataset utilizado para realizar el modelo y la predicción."
   ]
  },
  {
   "cell_type": "code",
   "execution_count": 43,
   "metadata": {},
   "outputs": [
    {
     "data": {
      "text/html": [
       "<div>\n",
       "<style scoped>\n",
       "    .dataframe tbody tr th:only-of-type {\n",
       "        vertical-align: middle;\n",
       "    }\n",
       "\n",
       "    .dataframe tbody tr th {\n",
       "        vertical-align: top;\n",
       "    }\n",
       "\n",
       "    .dataframe thead th {\n",
       "        text-align: right;\n",
       "    }\n",
       "</style>\n",
       "<table border=\"1\" class=\"dataframe\">\n",
       "  <thead>\n",
       "    <tr style=\"text-align: right;\">\n",
       "      <th></th>\n",
       "      <th>name</th>\n",
       "      <th>artists</th>\n",
       "      <th>year</th>\n",
       "      <th>duration_ms</th>\n",
       "      <th>explicit</th>\n",
       "      <th>danceability</th>\n",
       "      <th>energy</th>\n",
       "      <th>key</th>\n",
       "      <th>loudness</th>\n",
       "      <th>mode</th>\n",
       "      <th>speechiness</th>\n",
       "      <th>acousticness</th>\n",
       "      <th>instrumentalness</th>\n",
       "      <th>liveness</th>\n",
       "      <th>valence</th>\n",
       "      <th>tempo</th>\n",
       "      <th>popularity</th>\n",
       "    </tr>\n",
       "  </thead>\n",
       "  <tbody>\n",
       "    <tr>\n",
       "      <th>0</th>\n",
       "      <td>Testify</td>\n",
       "      <td>Rage Against The Machine</td>\n",
       "      <td>1999</td>\n",
       "      <td>210133</td>\n",
       "      <td>0</td>\n",
       "      <td>0.470</td>\n",
       "      <td>0.978</td>\n",
       "      <td>7</td>\n",
       "      <td>-5.399</td>\n",
       "      <td>1</td>\n",
       "      <td>0.0727</td>\n",
       "      <td>0.02610</td>\n",
       "      <td>0.000011</td>\n",
       "      <td>0.3560</td>\n",
       "      <td>0.503</td>\n",
       "      <td>117.906</td>\n",
       "      <td>47.0</td>\n",
       "    </tr>\n",
       "    <tr>\n",
       "      <th>1</th>\n",
       "      <td>Guerrilla Radio</td>\n",
       "      <td>Rage Against The Machine</td>\n",
       "      <td>1999</td>\n",
       "      <td>206200</td>\n",
       "      <td>1</td>\n",
       "      <td>0.599</td>\n",
       "      <td>0.957</td>\n",
       "      <td>11</td>\n",
       "      <td>-5.764</td>\n",
       "      <td>1</td>\n",
       "      <td>0.1880</td>\n",
       "      <td>0.01290</td>\n",
       "      <td>0.000071</td>\n",
       "      <td>0.1550</td>\n",
       "      <td>0.489</td>\n",
       "      <td>103.680</td>\n",
       "      <td>48.0</td>\n",
       "    </tr>\n",
       "    <tr>\n",
       "      <th>2</th>\n",
       "      <td>Calm Like a Bomb</td>\n",
       "      <td>Rage Against The Machine</td>\n",
       "      <td>1999</td>\n",
       "      <td>298893</td>\n",
       "      <td>0</td>\n",
       "      <td>0.315</td>\n",
       "      <td>0.970</td>\n",
       "      <td>7</td>\n",
       "      <td>-5.424</td>\n",
       "      <td>1</td>\n",
       "      <td>0.4830</td>\n",
       "      <td>0.02340</td>\n",
       "      <td>0.000002</td>\n",
       "      <td>0.1220</td>\n",
       "      <td>0.370</td>\n",
       "      <td>149.749</td>\n",
       "      <td>46.0</td>\n",
       "    </tr>\n",
       "    <tr>\n",
       "      <th>3</th>\n",
       "      <td>Mic Check</td>\n",
       "      <td>Rage Against The Machine</td>\n",
       "      <td>1999</td>\n",
       "      <td>213640</td>\n",
       "      <td>1</td>\n",
       "      <td>0.440</td>\n",
       "      <td>0.967</td>\n",
       "      <td>11</td>\n",
       "      <td>-5.830</td>\n",
       "      <td>0</td>\n",
       "      <td>0.2370</td>\n",
       "      <td>0.16300</td>\n",
       "      <td>0.000004</td>\n",
       "      <td>0.1210</td>\n",
       "      <td>0.574</td>\n",
       "      <td>96.752</td>\n",
       "      <td>47.0</td>\n",
       "    </tr>\n",
       "    <tr>\n",
       "      <th>4</th>\n",
       "      <td>Sleep Now In the Fire</td>\n",
       "      <td>Rage Against The Machine</td>\n",
       "      <td>1999</td>\n",
       "      <td>205600</td>\n",
       "      <td>0</td>\n",
       "      <td>0.426</td>\n",
       "      <td>0.929</td>\n",
       "      <td>2</td>\n",
       "      <td>-6.729</td>\n",
       "      <td>1</td>\n",
       "      <td>0.0701</td>\n",
       "      <td>0.00162</td>\n",
       "      <td>0.105000</td>\n",
       "      <td>0.0789</td>\n",
       "      <td>0.539</td>\n",
       "      <td>127.059</td>\n",
       "      <td>48.0</td>\n",
       "    </tr>\n",
       "    <tr>\n",
       "      <th>...</th>\n",
       "      <td>...</td>\n",
       "      <td>...</td>\n",
       "      <td>...</td>\n",
       "      <td>...</td>\n",
       "      <td>...</td>\n",
       "      <td>...</td>\n",
       "      <td>...</td>\n",
       "      <td>...</td>\n",
       "      <td>...</td>\n",
       "      <td>...</td>\n",
       "      <td>...</td>\n",
       "      <td>...</td>\n",
       "      <td>...</td>\n",
       "      <td>...</td>\n",
       "      <td>...</td>\n",
       "      <td>...</td>\n",
       "      <td>...</td>\n",
       "    </tr>\n",
       "    <tr>\n",
       "      <th>1380273</th>\n",
       "      <td>Mood Swings (feat. Lil Tjay)</td>\n",
       "      <td>Pop Smoke</td>\n",
       "      <td>2020</td>\n",
       "      <td>213333</td>\n",
       "      <td>1</td>\n",
       "      <td>0.480</td>\n",
       "      <td>0.602</td>\n",
       "      <td>10</td>\n",
       "      <td>-6.335</td>\n",
       "      <td>0</td>\n",
       "      <td>0.3680</td>\n",
       "      <td>0.48700</td>\n",
       "      <td>0.000000</td>\n",
       "      <td>0.0848</td>\n",
       "      <td>0.269</td>\n",
       "      <td>179.798</td>\n",
       "      <td>78.0</td>\n",
       "    </tr>\n",
       "    <tr>\n",
       "      <th>1380274</th>\n",
       "      <td>Something Special</td>\n",
       "      <td>Pop Smoke</td>\n",
       "      <td>2020</td>\n",
       "      <td>158466</td>\n",
       "      <td>1</td>\n",
       "      <td>0.739</td>\n",
       "      <td>0.616</td>\n",
       "      <td>7</td>\n",
       "      <td>-6.963</td>\n",
       "      <td>0</td>\n",
       "      <td>0.0338</td>\n",
       "      <td>0.25200</td>\n",
       "      <td>0.000002</td>\n",
       "      <td>0.1010</td>\n",
       "      <td>0.654</td>\n",
       "      <td>91.071</td>\n",
       "      <td>69.0</td>\n",
       "    </tr>\n",
       "    <tr>\n",
       "      <th>1380275</th>\n",
       "      <td>What You Know Bout Love</td>\n",
       "      <td>Pop Smoke</td>\n",
       "      <td>2020</td>\n",
       "      <td>160000</td>\n",
       "      <td>1</td>\n",
       "      <td>0.709</td>\n",
       "      <td>0.548</td>\n",
       "      <td>10</td>\n",
       "      <td>-8.493</td>\n",
       "      <td>1</td>\n",
       "      <td>0.3530</td>\n",
       "      <td>0.65000</td>\n",
       "      <td>0.000002</td>\n",
       "      <td>0.1330</td>\n",
       "      <td>0.543</td>\n",
       "      <td>83.995</td>\n",
       "      <td>81.0</td>\n",
       "    </tr>\n",
       "    <tr>\n",
       "      <th>1380276</th>\n",
       "      <td>Got It On Me</td>\n",
       "      <td>Pop Smoke</td>\n",
       "      <td>2020</td>\n",
       "      <td>164579</td>\n",
       "      <td>1</td>\n",
       "      <td>0.688</td>\n",
       "      <td>0.647</td>\n",
       "      <td>2</td>\n",
       "      <td>-7.258</td>\n",
       "      <td>1</td>\n",
       "      <td>0.1900</td>\n",
       "      <td>0.00815</td>\n",
       "      <td>0.000017</td>\n",
       "      <td>0.0950</td>\n",
       "      <td>0.195</td>\n",
       "      <td>88.834</td>\n",
       "      <td>77.0</td>\n",
       "    </tr>\n",
       "    <tr>\n",
       "      <th>1380277</th>\n",
       "      <td>Hotel Lobby</td>\n",
       "      <td>Pop Smoke</td>\n",
       "      <td>2020</td>\n",
       "      <td>151011</td>\n",
       "      <td>1</td>\n",
       "      <td>0.688</td>\n",
       "      <td>0.610</td>\n",
       "      <td>11</td>\n",
       "      <td>-6.790</td>\n",
       "      <td>1</td>\n",
       "      <td>0.1090</td>\n",
       "      <td>0.19800</td>\n",
       "      <td>0.001540</td>\n",
       "      <td>0.1140</td>\n",
       "      <td>0.201</td>\n",
       "      <td>88.995</td>\n",
       "      <td>66.0</td>\n",
       "    </tr>\n",
       "  </tbody>\n",
       "</table>\n",
       "<p>1368742 rows × 17 columns</p>\n",
       "</div>"
      ],
      "text/plain": [
       "                                 name                   artists  year  \\\n",
       "0                             Testify  Rage Against The Machine  1999   \n",
       "1                     Guerrilla Radio  Rage Against The Machine  1999   \n",
       "2                    Calm Like a Bomb  Rage Against The Machine  1999   \n",
       "3                           Mic Check  Rage Against The Machine  1999   \n",
       "4               Sleep Now In the Fire  Rage Against The Machine  1999   \n",
       "...                               ...                       ...   ...   \n",
       "1380273  Mood Swings (feat. Lil Tjay)                 Pop Smoke  2020   \n",
       "1380274             Something Special                 Pop Smoke  2020   \n",
       "1380275       What You Know Bout Love                 Pop Smoke  2020   \n",
       "1380276                  Got It On Me                 Pop Smoke  2020   \n",
       "1380277                   Hotel Lobby                 Pop Smoke  2020   \n",
       "\n",
       "         duration_ms  explicit  danceability  energy  key  loudness  mode  \\\n",
       "0             210133         0         0.470   0.978    7    -5.399     1   \n",
       "1             206200         1         0.599   0.957   11    -5.764     1   \n",
       "2             298893         0         0.315   0.970    7    -5.424     1   \n",
       "3             213640         1         0.440   0.967   11    -5.830     0   \n",
       "4             205600         0         0.426   0.929    2    -6.729     1   \n",
       "...              ...       ...           ...     ...  ...       ...   ...   \n",
       "1380273       213333         1         0.480   0.602   10    -6.335     0   \n",
       "1380274       158466         1         0.739   0.616    7    -6.963     0   \n",
       "1380275       160000         1         0.709   0.548   10    -8.493     1   \n",
       "1380276       164579         1         0.688   0.647    2    -7.258     1   \n",
       "1380277       151011         1         0.688   0.610   11    -6.790     1   \n",
       "\n",
       "         speechiness  acousticness  instrumentalness  liveness  valence  \\\n",
       "0             0.0727       0.02610          0.000011    0.3560    0.503   \n",
       "1             0.1880       0.01290          0.000071    0.1550    0.489   \n",
       "2             0.4830       0.02340          0.000002    0.1220    0.370   \n",
       "3             0.2370       0.16300          0.000004    0.1210    0.574   \n",
       "4             0.0701       0.00162          0.105000    0.0789    0.539   \n",
       "...              ...           ...               ...       ...      ...   \n",
       "1380273       0.3680       0.48700          0.000000    0.0848    0.269   \n",
       "1380274       0.0338       0.25200          0.000002    0.1010    0.654   \n",
       "1380275       0.3530       0.65000          0.000002    0.1330    0.543   \n",
       "1380276       0.1900       0.00815          0.000017    0.0950    0.195   \n",
       "1380277       0.1090       0.19800          0.001540    0.1140    0.201   \n",
       "\n",
       "           tempo  popularity  \n",
       "0        117.906        47.0  \n",
       "1        103.680        48.0  \n",
       "2        149.749        46.0  \n",
       "3         96.752        47.0  \n",
       "4        127.059        48.0  \n",
       "...          ...         ...  \n",
       "1380273  179.798        78.0  \n",
       "1380274   91.071        69.0  \n",
       "1380275   83.995        81.0  \n",
       "1380276   88.834        77.0  \n",
       "1380277   88.995        66.0  \n",
       "\n",
       "[1368742 rows x 17 columns]"
      ]
     },
     "execution_count": 43,
     "metadata": {},
     "output_type": "execute_result"
    }
   ],
   "source": [
    "data_modelo = data.dropna()\n",
    "data_final = pd.concat([data_pred, data_modelo], axis = 0)\n",
    "data_final"
   ]
  },
  {
   "cell_type": "markdown",
   "metadata": {},
   "source": [
    "#### Exportar Dataset\n",
    "Exportamos el dataset a un archivo .csv"
   ]
  },
  {
   "cell_type": "code",
   "execution_count": 44,
   "metadata": {},
   "outputs": [],
   "source": [
    "data_final.to_csv('Data-final.csv', index = False)"
   ]
  },
  {
   "cell_type": "markdown",
   "metadata": {},
   "source": [
    "#### Bases de datos trabajadas\n",
    "Las bases de datos extraidas se encuentran subidas en una carpeta de Google Drive en el siguiente enlace:\n",
    "https://drive.google.com/drive/folders/1y-cZJKyqvt47oKBm9h2i0W56fGtqpgEv"
   ]
  },
  {
   "cell_type": "markdown",
   "metadata": {},
   "source": [
    "#### Actualización de datos\n",
    "No es muy necesario realizar la actualización de la base de datos con frecuencia ya que los valores de las caracteristicas de las canciones no van a cambiar a través del tiempo. Lo que si seria necesario es extraer mas datos de la API de spotify para incrementar la cantidad de registros del dataset y poder tener mas información para realizar nuevos modelos de predicción por lo cual se sugiere realizar una actualización cada mes."
   ]
  },
  {
   "cell_type": "markdown",
   "metadata": {},
   "source": [
    "## Paso 4: Ejecutar la ETL"
   ]
  },
  {
   "cell_type": "markdown",
   "metadata": {},
   "source": [
    "## Paso 5: Completar la redacción del proyecto"
   ]
  }
 ],
 "metadata": {
  "kernelspec": {
   "display_name": "Python 3 (ipykernel)",
   "language": "python",
   "name": "python3"
  },
  "language_info": {
   "codemirror_mode": {
    "name": "ipython",
    "version": 3
   },
   "file_extension": ".py",
   "mimetype": "text/x-python",
   "name": "python",
   "nbconvert_exporter": "python",
   "pygments_lexer": "ipython3",
   "version": "3.8.13"
  }
 },
 "nbformat": 4,
 "nbformat_minor": 4
}
