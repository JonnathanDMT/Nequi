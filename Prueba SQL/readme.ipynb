{
 "cells": [
  {
   "cell_type": "markdown",
   "metadata": {
    "collapsed": false,
    "pycharm": {
     "name": "#%% md\n"
    }
   },
   "source": [
    "# Ingeniero de Datos Nequi: Prueba Técnica\n",
    "### Propósito\n",
    "El propósito de esta prueba es verificar tus conocimientos en el campo del modelado de datos, esperamos que sea la oportunidad de combinar lo que has aprendido a lo largo de tu experiencia profesional y mezclarlo con tu capacidad de abstracción y analítica."
   ]
  },
  {
   "cell_type": "markdown",
   "metadata": {
    "collapsed": false,
    "pycharm": {
     "name": "#%% md\n"
    }
   },
   "source": [
    "### Recursos\n",
    "Hemos creado un entorno en el cual podremos poner en práctica tus conocimientos en SQL.\n",
    "El RDBMS dispuesto para esta prueba es **Mysql**. Se debe contar con una tool que nos permita la conexión e interacción con\n",
    "la base de datos.\n",
    "Eres libre de usar la herramienta que consideres adecuada.\n",
    "Una vez realizada su conexión al RDBMS encontrará una base de datos llamada \"adventureworks\", donde podrás ejecutar las consultas propuestas en este documento."
   ]
  },
  {
   "cell_type": "markdown",
   "metadata": {
    "collapsed": false,
    "pycharm": {
     "name": "#%% md\n"
    }
   },
   "source": [
    "### Instrucciones\n",
    "Para obtener información acerca de adventureworks puede consultar el siguiente [enlace](https://docs.microsoft.com/en-us/previous-versions/sql/sql-server-2008/ms124438(v=sql.100))\n",
    "\n",
    "## Conexion\n",
    "\n",
    "| **Pametro**  | **Descripcion**                                                            |\n",
    "|--------------|----------------------------------------------------------------------------|\n",
    "| RDBMS        | MYSQL                                                                      |\n",
    "| Host         | mysql-nequi-data-sandbox-20220525.cbbyoqcx4kai.us-east-1.rds.amazonaws.com |\n",
    "| User         | invitado                                                                   |\n",
    "| Pass         | invitado                                                                   |\n",
    "| Port         | 3306                                                                       |\n",
    "| databasename | adventureworks                                                             |\n",
    "\n",
    "\n",
    "Este es un diagrama de la base datos y de como se relacionan las diferenes tablas.\n",
    "![imagen1](./img/adventureworks.png \"nequi-mysql-adventureworks\")"
   ]
  },
  {
   "cell_type": "markdown",
   "metadata": {
    "collapsed": false,
    "pycharm": {
     "name": "#%% md\n"
    }
   },
   "source": [
    "## Seccion #1\n",
    "\n",
    "**Copie & pegue la consulta y el resultado de cada una de las preguntas propuestas en este notebok.**\n",
    "\n",
    "Desde la información que se tiene de tarjetas de credito se necesita conocer:\n",
    "1. Liste las diferentes franquicias\n",
    "2. La cantidad de tarjetas por franquicia, distribuida por el año de vencimiento de la tarjeta\n",
    "3. La cantidad de tarjetas MASTERCARD donde el año de vencimiento es 2008\n",
    "4. La cantidad de tarjetas que en su número finalizan en 9722\n",
    "5. Cuál es el año y mes que tiene mayor cantidad de tarjetas que se van a vencer\n",
    "6. Cuál es el año de vencimiento que tuvo mayor cantidad de modificaciones en tarjeta de credito"
   ]
  },
  {
   "cell_type": "markdown",
   "metadata": {
    "collapsed": false,
    "pycharm": {
     "name": "#%% md\n"
    }
   },
   "source": [
    "**Respuestas...**\n",
    "edite o agreguee celdas con cada una de las respuestas. puede ser en formato texto\n",
    "\n",
    "**Respuesta ejemplo**\n",
    "Pregunta 1\n",
    "\n",
    "```sql\n",
    "select a.field from table\n",
    "```\n",
    "Resultado:\n",
    "- valor1\n",
    "- valor2\n",
    "- valor3"
   ]
  },
  {
   "attachments": {},
   "cell_type": "markdown",
   "metadata": {
    "collapsed": false,
    "pycharm": {
     "name": "#%% md\n"
    }
   },
   "source": [
    "### Respuestas:"
   ]
  },
  {
   "attachments": {},
   "cell_type": "markdown",
   "metadata": {
    "collapsed": false,
    "pycharm": {
     "name": "#%% md\n"
    }
   },
   "source": [
    "#### Pregunta 1:\n",
    "\n",
    "```sql\n",
    "SELECT DISTINCT CardType AS CardFranchisesName FROM creditcard;\n",
    "```\n",
    "Resultado:\n",
    "\n",
    "| **CardFranchisesName**   |\n",
    "|--------------------------|\n",
    "| MASTERCARD               |\n",
    "| Dinners Club             |\n",
    "| American Express         |\n",
    "| VISA                     |"
   ]
  },
  {
   "attachments": {},
   "cell_type": "markdown",
   "metadata": {},
   "source": [
    "#### Pregunta 2:\n",
    "\n",
    "```sql\n",
    "SELECT CardType, ExpYear, COUNT(CardType) as CardFranchisesTotal\n",
    "FROM creditcard\n",
    "GROUP BY CardType, ExpYear\n",
    "ORDER BY CardType ASC, ExpYear ASC;\n",
    "```\n",
    "Resultado:\n",
    "\n",
    "| **CardType**     | **ExpYear** | **CardFranchisesTotal** |\n",
    "|------------------|-------------|-------------------------|\n",
    "| American Express | 2005\t       |  1159                   |\n",
    "| American Express | 2006        |\t1233                   |\n",
    "| American Express | 2007        |\t1174                   |\n",
    "| American Express | 2008        |  1216                   |\n",
    "| Dinners Club     | 2005        |\t1157                   |\n",
    "| Dinners Club\t   | 2006\t       |  1208                   |\n",
    "| Dinners Club     | 2007  \t     |  1252                   |\n",
    "| Dinners Club     | 2008        |\t1215                   |\n",
    "| MASTERCARD       | 2005        |\t1201                   |\n",
    "| MASTERCARD       | 2006        |\t1220                   |\n",
    "| MASTERCARD       | 2007        |\t1229                   |\n",
    "| MASTERCARD       | 2008        |\t1189                   |\n",
    "| VISA             | 2005        |\t1226                   |\n",
    "| VISA             | 2006        |\t1146                   |\n",
    "| VISA             | 2007        |\t1177                   |\n",
    "| VISA             | 2008        |\t1116                   |"
   ]
  },
  {
   "attachments": {},
   "cell_type": "markdown",
   "metadata": {},
   "source": [
    "#### Pregunta 3:\n",
    "\n",
    "```sql\n",
    "SELECT CardType, ExpYear, COUNT(CardType) as CardTotal\n",
    "FROM creditcard\n",
    "WHERE CardType = 'MASTERCARD' and ExpYear = 2008;\n",
    "```\n",
    "Resultado:\n",
    "\n",
    "| **CardType**     | **ExpYear** | **CardTotal** |\n",
    "|------------------|-------------|---------------|\n",
    "| MASTERCARD\t     | 2008\t       | 1189          |"
   ]
  },
  {
   "attachments": {},
   "cell_type": "markdown",
   "metadata": {},
   "source": [
    "#### Pregunta 4:\n",
    "\n",
    "```sql\n",
    "SELECT COUNT(CardNumber) AS CardTotalEnds9722\n",
    "FROM creditcard\n",
    "WHERE CardNumber LIKE '%9722';\n",
    "```\n",
    "Resultado:\n",
    "\n",
    "| **CardTotalEnds9722**  |\n",
    "|------------------------|\n",
    "| 3                      |"
   ]
  },
  {
   "attachments": {},
   "cell_type": "markdown",
   "metadata": {},
   "source": [
    "#### Pregunta 5:\n",
    "\n",
    "```sql\n",
    "SELECT ExpYear, ExpMonth, COUNT(CardType) as MoreCardsToExpire\n",
    "FROM creditcard\n",
    "GROUP BY ExpYear , ExpMonth\n",
    "ORDER BY MoreCardsToExpire DESC LIMIT 1;\n",
    "```\n",
    "Resultado:\n",
    "\n",
    "| **ExpYear** | **ExpMonth** | **MoreCardsToExpire** |\n",
    "|-------------|--------------|-----------------------|\n",
    "| 2006\t      | 12\t         | 429                   |"
   ]
  },
  {
   "attachments": {},
   "cell_type": "markdown",
   "metadata": {},
   "source": [
    "#### Pregunta 6:\n",
    "\n",
    "```sql\n",
    "SELECT ExpYear, COUNT(DISTINCT(ModifiedDate)) AS MoreCardsModified\n",
    "FROM creditcard\n",
    "GROUP BY ExpYear\n",
    "ORDER BY MoreCardsModified DESC LIMIT 1;\n",
    "```\n",
    "Resultado:\n",
    "\n",
    "| **ExpYear** | **MoreCardsModified** |\n",
    "|-------------|-----------------------|\n",
    "| 2008\t      | 1092                  |"
   ]
  },
  {
   "cell_type": "markdown",
   "metadata": {
    "collapsed": false,
    "pycharm": {
     "name": "#%% md\n"
    }
   },
   "source": [
    "## Seccion #2\n",
    "\n",
    "**Escriba el resultado de cada una de las preguntas propuestas en este notebok.**\n",
    "\n",
    "Seleccione la respuesta mas adecuada en las siguientes preguntas.\n",
    "\n",
    "1. Cuál comando SQL se usa para extraer información de una base de datos:\n",
    "    - EXTRACT\n",
    "    - GET\n",
    "    - SELECT\n",
    "    - OPEN\n",
    "2. Determine que operación **DDL** se usa para borrar todo el contenido de una tabla:\n",
    "    - DELETE\n",
    "    - ALTER\n",
    "    - DROP\n",
    "    - GRANT\n",
    "    - TRUNCATE\n",
    "\n",
    "3. Escriba la diferencia entre **DELETE** y **TRUNCATE**\n",
    "4. Escriba la diferencia entre un **CROSS JOIN** y un **FULL JOIN**"
   ]
  },
  {
   "attachments": {},
   "cell_type": "markdown",
   "metadata": {},
   "source": [
    "### Respuestas:"
   ]
  },
  {
   "attachments": {},
   "cell_type": "markdown",
   "metadata": {},
   "source": [
    "#### Pregunta 1:\n",
    "\n",
    "El comando en SQL que se utiliza para extraer la información de una base de datos es:\n",
    "\n",
    "```sql\n",
    "SELECT\n",
    "```\n",
    "Un ejemplo seria el siguiente:\n",
    "\n",
    "```sql\n",
    "SELECT CardType FROM creditcard;\n",
    "```\n",
    "\n",
    "Donde la sentencia *SELECT* nos indica la(s) columna(s) que se requiere acceder (con * obtenemos todas las columnas), en este caso solo requerimos CardType y la sentencia *FROM* nos indica la tabla desde la cual se requiere la información."
   ]
  },
  {
   "attachments": {},
   "cell_type": "markdown",
   "metadata": {},
   "source": [
    "#### Pregunta 2:\n",
    "\n",
    "La operación DDL (Data Definition Language) que borra todo el contenido de una tabla es:\n",
    "\n",
    "```sql\n",
    "TRUNCATE\n",
    "```\n",
    "Un ejemplo seria el siguiente:\n",
    "\n",
    "```sql\n",
    "TRUNCATE TABLE creditcard;\n",
    "```\n",
    "\n",
    "Donde la sentencia *TRUNCATE* y *TABLE* nos indica que se quieren borrar todos los datos de la tabla *creditcard*."
   ]
  },
  {
   "attachments": {},
   "cell_type": "markdown",
   "metadata": {},
   "source": [
    "#### Pregunta 3:\n",
    "\n",
    "- La sentencia *TRUNCATE* elimina todos los datos de manera rápida porque no guarda cada dato eliminado en registros de transacciones mientras *DELETE* si registra cada dato eliminado y esto ralentiza su proceso.\n",
    "\n",
    "- *TRUNCATE* elimina todos los datos de manera definitiva, esto quiere decir que no se pueden recuperar.\n",
    "\n",
    "- *TRUNCATE* reinicia los contadores de ID autoincrementales que tenga la tabla y no se puede utilizar la sentencia *WHERE* mientras que con *DELETE* si se puede utilizar."
   ]
  },
  {
   "attachments": {},
   "cell_type": "markdown",
   "metadata": {},
   "source": [
    "#### Pregunta 4:\n",
    "\n",
    "La sentencia *CROSS JOIN* y *FULL JOIN* son dos diferentes operaciones *JOIN*:\n",
    "\n",
    " -*CROSS JOIN* es la combinación de cada columna de una tabla con cada columna de otra tabla, por tanto se tiene como resultado todas las combinaciones posibles entre dichas dos tablas, esta sentencia no requiere la condición *ON* ya que no requiere un valor de unión porque sus combinaciones son automáticas. Es conocida como el producto cartesiano y la sintaxis de su query es:\n",
    "\n",
    "  ```sql\n",
    "  SELECT * FROM contact CROSS JOIN creditcard;\n",
    "  ```\n",
    "  -*FULL JOIN* es la unión de cada columna de una tabla con todas las columnas de otra tabla, siendo esta sentencia la unión de dos sentencias mas polulares; *LEFT JOIN* y un *RIGHT JOIN* ya que *FULL JOIN* no tiene soporte en todas las bases de datos. Su resultado incluye todas las columnas de ambas tablas, unidas por la columna que coincide ayudada por la cláusula *ON*. Las columnas que no tienen una coincidencia en ambas tablas se completan con NULL y la sintaxis de su query es:\n",
    "\n",
    "  ```sql\n",
    "  SELECT * FROM contact FULL JOIN storecontact ON contact.ContactID = storecontact.ContactID;\n",
    "  ```"
   ]
  }
 ],
 "metadata": {
  "kernelspec": {
   "display_name": "Python 3",
   "language": "python",
   "name": "python3"
  },
  "language_info": {
   "codemirror_mode": {
    "name": "ipython",
    "version": 2
   },
   "file_extension": ".py",
   "mimetype": "text/x-python",
   "name": "python",
   "nbconvert_exporter": "python",
   "pygments_lexer": "ipython2",
   "version": "2.7.6"
  }
 },
 "nbformat": 4,
 "nbformat_minor": 0
}
